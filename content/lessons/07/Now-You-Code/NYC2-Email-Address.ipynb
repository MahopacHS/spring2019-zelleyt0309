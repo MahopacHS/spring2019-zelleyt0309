{
  "cells": [
    {
      "metadata": {},
      "cell_type": "markdown",
      "source": "# Now You Code 2: Is That An Email Address?\n\nLet's use Python's built-in string functions to write our own function to detect if a string is an email address. \n\nThe function `isEmail(text)` should return `True` when `text` is an email address, `False` otherwise.  \n\nFor simplicity's sake we will define an email address to be any string with just ONE `@` symbol in it, where the `@` is not at the beginning or end of the string. So `a@b` is considered an email (even though it really isn't).\n\nThe program should detect emails until you enter quit. \n\nSample run:\n```\nEmail address detector. Type quit to exit. \nEmail: mafudge@syr.edu\nmafudge@syr.edu ==> email\nEmail: mafudge@\nmafudge@ ==> NOT EMAIL\nEmail: mafudge\nmafudge ==> NOT EMAIL\nEmail: @syr.edu\n@syr.edu ==> NOT EMAIL\nEmail: @\n@ ==> NOT EMAIL\nEmail: mafudge@@syr.edu\nmafudge@@syr.edu ==> NOT EMAIL\nEmail: mafudge@syr@edu\nmafudge@syr@edu ==> NOT EMAIL\n```\n\nOnce again we will use the problem simplification technique to writing this program.\n\nFirst we will write the `isEmail(text)` function, then we will write the main program.\n"
    },
    {
      "metadata": {},
      "cell_type": "markdown",
      "source": "## Step 1: Problem Analysis for isEmail function only\n\nInputs (function arguments):\n\nOutputs (what is returns): \n\nAlgorithm (Steps in Function):\n\n"
    },
    {
      "metadata": {
        "trusted": true
      },
      "cell_type": "code",
      "source": "## Step 2: Todo write the function definition for isEmail functiuon\ndef isEmail(text):\n    if '@' in text and not text.endswith('@') and not text.startswith('@'):\n        email = True\n    else:\n        email = False\n    return email\n    ",
      "execution_count": 12,
      "outputs": []
    },
    {
      "metadata": {
        "trusted": true
      },
      "cell_type": "code",
      "source": "## Step 3: Write some tests, to ensure the function works, for example\n## Make sure to test all cases!\nprint(\"WHEN text=mike@syr.edu We EXPECT isEmail(text) to return True\", \"ACTUAL\", isEmail(\"mike@syr.edu\") )\nprint(\"WHEN text=mike@ We EXPECT isEmail(text) to return False\", \"ACTUAL\", isEmail(\"mike@\") )\n\n",
      "execution_count": 13,
      "outputs": [
        {
          "output_type": "stream",
          "text": "WHEN text=mike@syr.edu We EXPECT isEmail(text) to return True ACTUAL True\nWHEN text=mike@ We EXPECT isEmail(text) to return False ACTUAL False\n",
          "name": "stdout"
        }
      ]
    },
    {
      "metadata": {},
      "cell_type": "markdown",
      "source": "## Step 4: Problem Analysis for full Program\n\nInputs:\n\nOutputs:\n\nAlgorithm (Steps in Program):\n\n"
    },
    {
      "metadata": {
        "trusted": true
      },
      "cell_type": "code",
      "source": "## Step 5: todo write code for full problem, using the isEmail function to help you solve the problem\ntext=input(\"Enter something to be tested to see if it's an email: \")\nisEmail(text)",
      "execution_count": 14,
      "outputs": [
        {
          "output_type": "stream",
          "name": "stdout",
          "text": "Enter something to be tested to see if it's an email: t\n"
        },
        {
          "output_type": "execute_result",
          "execution_count": 14,
          "data": {
            "text/plain": "False"
          },
          "metadata": {}
        }
      ]
    },
    {
      "metadata": {},
      "cell_type": "markdown",
      "source": "## Step 6: Questions\n\n1. How many test cases should you have in step 3 to ensure you've tested all the cases?\n4:\n1)no @\n2)@ in middle\n3)@ in end\n4)@ at start\n2. What should kind of logic should we add to make our `isEmail` function even better, so that is detects emails more accurately?\nit also checks for a .com or similar end"
    },
    {
      "metadata": {},
      "cell_type": "markdown",
      "source": "## Reminder of Evaluation Criteria\n\n1. What the problem attempted (analysis, code, and answered questions) ?\n2. What the problem analysis thought out? (does the program match the plan?)\n3. Does the code execute without syntax error?\n4. Does the code solve the intended problem?\n5. Is the code well written? (easy to understand, modular, and self-documenting, handles errors)\n"
    },
    {
      "metadata": {
        "collapsed": true,
        "trusted": false
      },
      "cell_type": "code",
      "source": "",
      "execution_count": null,
      "outputs": []
    }
  ],
  "metadata": {
    "anaconda-cloud": {},
    "kernelspec": {
      "name": "python3",
      "display_name": "Python 3",
      "language": "python"
    },
    "language_info": {
      "mimetype": "text/x-python",
      "nbconvert_exporter": "python",
      "name": "python",
      "pygments_lexer": "ipython3",
      "version": "3.5.4",
      "file_extension": ".py",
      "codemirror_mode": {
        "version": 3,
        "name": "ipython"
      }
    }
  },
  "nbformat": 4,
  "nbformat_minor": 1
}