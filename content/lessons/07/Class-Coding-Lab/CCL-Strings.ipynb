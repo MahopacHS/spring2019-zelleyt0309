{
  "cells": [
    {
      "metadata": {},
      "cell_type": "markdown",
      "source": "# In-Class Coding Lab: Strings\n\nThe goals of this lab are to help you to understand:\n\n- String slicing for substrings\n- How to use Python's built-in String functions in the standard library.\n- Tokenizing and Parsing Data\n- How to create user-defined functions to parse and tokenize strings\n\n\n# Strings\n\n## Strings are immutable sequences\n\nPython strings are immutable sequences.This means we cannot change them \"in part\" and there is impicit ordering. \n\nThe characters in a string are zero-based. Meaning the index of the first character is 0.\n\nWe can leverage this in a variety of ways.\n\nFor example:"
    },
    {
      "metadata": {
        "trusted": true
      },
      "cell_type": "code",
      "source": "x = input(\"Enter something: \")\nprint (\"You typed:\", x)\nprint (\"number of characters:\", len(x) )\nprint (\"First character is:\", x[0])\nprint (\"Last character is:\", x[-1])\n\n## They're sequences, so you can loop definately:\nprint(\"Printing one character at a time: \")\nfor ch in x:\n    print(ch) # print a character at a time!",
      "execution_count": 1,
      "outputs": [
        {
          "output_type": "stream",
          "name": "stdout",
          "text": "Enter something: something\nYou typed: something\nnumber of characters: 9\nFirst character is: s\nLast character is: g\nPrinting one character at a time: \ns\no\nm\ne\nt\nh\ni\nn\ng\n"
        }
      ]
    },
    {
      "metadata": {},
      "cell_type": "markdown",
      "source": "## Slices as substrings\n\nPython lists and sequences use **slice notation** which is a clever way to get substring from a given string.\n\nSlice notation requires two values: A start index and the end index. The substring returned starts at the start index, and *ends at the position before the end index*. It ends at the position *before* so that when you slice a string into parts you know where you've \"left off\". \n\nFor example:"
    },
    {
      "metadata": {
        "trusted": true
      },
      "cell_type": "code",
      "source": "state = \"Mississippi\"\nprint (state[0:4])          # Miss\nprint (state[4:len(state)]) # issippi",
      "execution_count": 2,
      "outputs": [
        {
          "output_type": "stream",
          "text": "Miss\nissippi\n",
          "name": "stdout"
        }
      ]
    },
    {
      "metadata": {},
      "cell_type": "markdown",
      "source": "In this next example, play around with the variable `split` adjusting it to how you want the string to be split up. Re run the cell several times with different values to get a feel for what happens."
    },
    {
      "metadata": {
        "trusted": true
      },
      "cell_type": "code",
      "source": "state = \"Mississippi\"\nsplit = 4   # TODO: play around with this number\nleft = state[0:split]\nright = state[split:len(state)]\nprint(left, right)",
      "execution_count": 3,
      "outputs": [
        {
          "output_type": "stream",
          "text": "Miss issippi\n",
          "name": "stdout"
        }
      ]
    },
    {
      "metadata": {},
      "cell_type": "markdown",
      "source": "### Slicing from the beginning or to the end\n\nIf you omit the begin or end slice, Python will slice from the beginnning of the string or all the way to the end. So if you say `x[:5]` its the same as `x[0:5]`\n\nFor example:"
    },
    {
      "metadata": {
        "trusted": true
      },
      "cell_type": "code",
      "source": "state = \"Ohio\"\nprint(state[0:2], state[:2]) # same!\nprint(state[2:len(state)], state[2:]) # same\n",
      "execution_count": 4,
      "outputs": [
        {
          "output_type": "stream",
          "text": "Oh Oh\nio io\n",
          "name": "stdout"
        }
      ]
    },
    {
      "metadata": {},
      "cell_type": "markdown",
      "source": "### Now Try It!\n\nSplit the string  `\"New Hampshire\"` into two sub-strings one containing `\"New\"` the other containing `\"Hampshire\"` (without the space)."
    },
    {
      "metadata": {
        "trusted": true
      },
      "cell_type": "code",
      "source": "## TODO: Write code here\nstate = \"New Hampshire\"\nprint(state[0:3])\nprint(state[3:len(state)])",
      "execution_count": 5,
      "outputs": [
        {
          "output_type": "stream",
          "text": "New\n Hampshire\n",
          "name": "stdout"
        }
      ]
    },
    {
      "metadata": {},
      "cell_type": "markdown",
      "source": "## Python's built in String Functions\n\nPython includes several handy built-in string functions (also known as *methods* in object-oriented parlance). To get a list of available functions, use the `dir()` function on any string variable, or on the type `str` itself.\n"
    },
    {
      "metadata": {
        "trusted": true
      },
      "cell_type": "code",
      "source": "print ( dir(str))",
      "execution_count": 6,
      "outputs": [
        {
          "output_type": "stream",
          "text": "['__add__', '__class__', '__contains__', '__delattr__', '__dir__', '__doc__', '__eq__', '__format__', '__ge__', '__getattribute__', '__getitem__', '__getnewargs__', '__gt__', '__hash__', '__init__', '__iter__', '__le__', '__len__', '__lt__', '__mod__', '__mul__', '__ne__', '__new__', '__reduce__', '__reduce_ex__', '__repr__', '__rmod__', '__rmul__', '__setattr__', '__sizeof__', '__str__', '__subclasshook__', 'capitalize', 'casefold', 'center', 'count', 'encode', 'endswith', 'expandtabs', 'find', 'format', 'format_map', 'index', 'isalnum', 'isalpha', 'isdecimal', 'isdigit', 'isidentifier', 'islower', 'isnumeric', 'isprintable', 'isspace', 'istitle', 'isupper', 'join', 'ljust', 'lower', 'lstrip', 'maketrans', 'partition', 'replace', 'rfind', 'rindex', 'rjust', 'rpartition', 'rsplit', 'rstrip', 'split', 'splitlines', 'startswith', 'strip', 'swapcase', 'title', 'translate', 'upper', 'zfill']\n",
          "name": "stdout"
        }
      ]
    },
    {
      "metadata": {},
      "cell_type": "markdown",
      "source": "Let's suppose you want to learn how to use the `count` function. There are 2 ways you can do this.\n\n1. search the web for `python 3 str count` or\n1. bring up internal help `help(str.count)` \n\nBoth have their advantages and disadvanges. I would start with the second one, and only fall back to a web search when you can't figure it out from the Python documenation. \n\nHere's the documentation for `count`"
    },
    {
      "metadata": {
        "trusted": true
      },
      "cell_type": "code",
      "source": "help(str.count)",
      "execution_count": 7,
      "outputs": [
        {
          "output_type": "stream",
          "text": "Help on method_descriptor:\n\ncount(...)\n    S.count(sub[, start[, end]]) -> int\n    \n    Return the number of non-overlapping occurrences of substring sub in\n    string S[start:end].  Optional arguments start and end are\n    interpreted as in slice notation.\n\n",
          "name": "stdout"
        }
      ]
    },
    {
      "metadata": {},
      "cell_type": "markdown",
      "source": "You'll notice in the help output it says S.count() this indicates this function is a method function. this means you invoke it like this `variable.count()`.\n\n### Now Try It\n\nTry to use the count() function method to count the number of `'i'`'s in the string `'Mississippi`:"
    },
    {
      "metadata": {
        "trusted": true
      },
      "cell_type": "code",
      "source": "state = 'Mississippi'\n#TODO: use state.count\nstate.count('i')",
      "execution_count": 23,
      "outputs": [
        {
          "output_type": "execute_result",
          "execution_count": 23,
          "data": {
            "text/plain": "4"
          },
          "metadata": {}
        }
      ]
    },
    {
      "metadata": {},
      "cell_type": "markdown",
      "source": "### TANGENT: The Subtle difference between function and method.\n\nYou'll notice sometimes we call our function alone, other times it's attached to a variable, as was the case in the example above. when we say `state.count('i')` the period (`.`) between the variable and function indicates this function is a *method function*. The key difference between a the two is a method is attached to a variable. To call a method function you must say `variable.function()` whereas when you call a function its just `function()`. The variable associated with the method call is usually part of the function's context.\n\nHere's an example:"
    },
    {
      "metadata": {
        "trusted": true
      },
      "cell_type": "code",
      "source": "name = \"Larry\"\nprint( len(name) )      # a function call len(name) stands on its own. Gets length of 'Larry'\nprint( name.__len__() ) # a method call name.__len__()  does the name thing for its variable 'Larry'",
      "execution_count": 24,
      "outputs": [
        {
          "output_type": "stream",
          "text": "5\n5\n",
          "name": "stdout"
        }
      ]
    },
    {
      "metadata": {},
      "cell_type": "markdown",
      "source": "### Now Try It\n\nTry to figure out which built in string function to use to accomplish this task.\n\nWrite some code to find the text `'is'` in some text. The program shoud output the first position of `'is'` in the text. \n\nExamples:\n\n```\nWhen: text = 'Mississippi' then position = 1\nWhen: text = \"This is great\" then position = 2\nWhen: text = \"Burger\" then position = -1\n```"
    },
    {
      "metadata": {
        "trusted": true
      },
      "cell_type": "code",
      "source": "# TODO: Write your code here\ntext = input(\"Enter some text: \")\ntext.find('is')\n",
      "execution_count": 29,
      "outputs": [
        {
          "output_type": "stream",
          "name": "stdout",
          "text": "Enter some text: mississippi\n"
        },
        {
          "output_type": "execute_result",
          "execution_count": 29,
          "data": {
            "text/plain": "1"
          },
          "metadata": {}
        }
      ]
    },
    {
      "metadata": {},
      "cell_type": "markdown",
      "source": "### Now Try It\n\n**Is that a URL?**\n\nTry to write a rudimentary URL checker. The program should input a text string and then use the `startswith` function to check if the string begins with `\"http://\"` or `\"https://\"` If it does we can assume it is a URL.  "
    },
    {
      "metadata": {
        "trusted": true
      },
      "cell_type": "code",
      "source": "## TODO: write code here:\nurl = input(\"Enter some text: \")\nurl.startswith(\"http://\")\nurl.startswith(\"https://\")",
      "execution_count": 42,
      "outputs": [
        {
          "output_type": "stream",
          "name": "stdout",
          "text": "Enter some text: https://www\n"
        },
        {
          "output_type": "execute_result",
          "execution_count": 42,
          "data": {
            "text/plain": "True"
          },
          "metadata": {}
        }
      ]
    },
    {
      "metadata": {
        "trusted": true
      },
      "cell_type": "code",
      "source": "help(str.startswith)",
      "execution_count": 37,
      "outputs": [
        {
          "output_type": "stream",
          "text": "Help on method_descriptor:\n\nstartswith(...)\n    S.startswith(prefix[, start[, end]]) -> bool\n    \n    Return True if S starts with the specified prefix, False otherwise.\n    With optional start, test S beginning at that position.\n    With optional end, stop comparing S at that position.\n    prefix can also be a tuple of strings to try.\n\n",
          "name": "stdout"
        }
      ]
    },
    {
      "metadata": {
        "trusted": true
      },
      "cell_type": "code",
      "source": "",
      "execution_count": null,
      "outputs": []
    }
  ],
  "metadata": {
    "anaconda-cloud": {},
    "kernelspec": {
      "name": "python3",
      "display_name": "Python 3",
      "language": "python"
    },
    "language_info": {
      "mimetype": "text/x-python",
      "nbconvert_exporter": "python",
      "name": "python",
      "pygments_lexer": "ipython3",
      "version": "3.5.4",
      "file_extension": ".py",
      "codemirror_mode": {
        "version": 3,
        "name": "ipython"
      }
    }
  },
  "nbformat": 4,
  "nbformat_minor": 1
}