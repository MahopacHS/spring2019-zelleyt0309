{
  "cells": [
    {
      "metadata": {},
      "cell_type": "markdown",
      "source": "# Now You Code 2: Shopping List\n\nWrite a program to input a list of grocery items for your shopping list and then writes them to a file a line at a time.  The program should keep asking you to enter grocery items until you type `'done'`.\n\nAfter you complete the list, the program should then load the file and read the list back to you by printing each item out.\n\nSample Run:\n\n```\nLet's make a shopping list. Type 'done' when you're finished:\nEnter Item: milk\nEnter Item: cheese\nEnter Item: eggs\nEnter Item: beer\nEnter Item: apples\nEnter Item: done\nYour shopping list:\nmilk\ncheese\neggs\nbeer\napples\n```\n"
    },
    {
      "metadata": {
        "collapsed": true
      },
      "cell_type": "markdown",
      "source": "## Step 1: Problem Analysis\n\nInputs:\ngrocery list\nor doene to finish\nOutputs:\n\"Your shopping list:\"\nfollowed by your shopping list\nAlgorithm (Steps in Program):\ntake the input\nsome black box magic\nmake it the output\n"
    },
    {
      "metadata": {
        "trusted": true
      },
      "cell_type": "code",
      "source": "filename = \"NYC2-shopping-list.txt\"\nshopping_list = 'O'\n## Step 2: write code here\nwith open(filename, 'w') as grocery:\n    print(\"Let's make a shopping list. Type 'done' when you're finished: \")\n    grocery.write(\"Your shopping list: \")\n    grocery.write(\"\\n\")\n    while shopping_list != 'done':\n        shopping_list = input(\"Enter Item: \" )\n        grocery.write(shopping_list)\n        grocery.write(\"\\n\")\nwith open(filename, 'r') as grocery:\n    for line in grocery.readlines():\n        print(line)",
      "execution_count": 14,
      "outputs": [
        {
          "output_type": "stream",
          "text": "Let's make a shopping list. Type 'done' when you're finished: \nEnter Item: aple\nEnter Item: akpe\nEnter Item: apple\nEnter Item: done\nYour shopping list: \n\naple\n\nakpe\n\napple\n\ndone\n\n",
          "name": "stdout"
        }
      ]
    },
    {
      "metadata": {
        "collapsed": true
      },
      "cell_type": "markdown",
      "source": "## Step 3: Refactoring\n\nRefactor the part of your program which reads the shopping list from the file into a separate user-defined function called `readShoppingList` \nre-write your program to use this function.\n\n## ReadShoppingList function\n\nInputs:\n\nOutputs:\n\nAlgorithm (Steps in Program):\n\n\n\n"
    },
    {
      "metadata": {
        "trusted": true
      },
      "cell_type": "code",
      "source": "",
      "execution_count": null,
      "outputs": []
    },
    {
      "metadata": {
        "trusted": true
      },
      "cell_type": "code",
      "source": "## Step 4: Write program again with refactored code.\ndef readShoppingList(filename):\n    shoppingList = []\n    # todo read shopping list here\n    \n    with open(filename, 'r') as grocery:\n        for line in grocery.readlines():\n        \n            shoppingList = line  \n    return shoppingList\n\n\n# TODO Main code here\nfilename = \"NYC2-shopping-list.txt\"\nshopping_list = 'o'\nwith open(filename, 'w') as grocery:\n    print(\"Let's make a shopping list. Type 'done' when you're finished: \")\n    grocery.write(\"Your shopping list: \")\n    grocery.write(\"\\n\")\n    while shopping_list != 'done':\n        shopping_list = input(\"Enter Item: \" )\n        grocery.write(shopping_list)\n        grocery.write(\"\\n\")\n        readShoppingList(filename)\n",
      "execution_count": 37,
      "outputs": [
        {
          "output_type": "stream",
          "text": "Let's make a shopping list. Type 'done' when you're finished: \nEnter Item: apple\nEnter Item: done\n",
          "name": "stdout"
        }
      ]
    },
    {
      "metadata": {},
      "cell_type": "markdown",
      "source": "## Step 5: Questions\n\n1. Is the refactored code in step 4 easier to read? Why or why not?\n2. Explain how this program could be refarctored further (there's one thing that's obvious).\n3. Describe how this program can be modified to support multiple shopping lists?\n"
    },
    {
      "metadata": {},
      "cell_type": "markdown",
      "source": "## Reminder of Evaluation Criteria\n\n1. What the problem attempted (analysis, code, and answered questions) ?\n2. What the problem analysis thought out? (does the program match the plan?)\n3. Does the code execute without syntax error?\n4. Does the code solve the intended problem?\n5. Is the code well written? (easy to understand, modular, and self-documenting, handles errors)\n"
    }
  ],
  "metadata": {
    "anaconda-cloud": {},
    "kernelspec": {
      "name": "python3",
      "display_name": "Python 3",
      "language": "python"
    },
    "language_info": {
      "mimetype": "text/x-python",
      "nbconvert_exporter": "python",
      "name": "python",
      "pygments_lexer": "ipython3",
      "version": "3.5.4",
      "file_extension": ".py",
      "codemirror_mode": {
        "version": 3,
        "name": "ipython"
      }
    }
  },
  "nbformat": 4,
  "nbformat_minor": 1
}