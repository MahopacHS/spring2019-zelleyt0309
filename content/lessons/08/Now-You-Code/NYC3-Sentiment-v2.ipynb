{
  "cells": [
    {
      "metadata": {},
      "cell_type": "markdown",
      "source": "# Now You Code 3: Sentiment v2.0\n\nLet's write a better version of the basic sentiment analyzer in Python. Instead of using a string of words, this example will read a list of words positive and negative words from a file.\n\nIn fact, we've included two files for you so you don't have to some up with the positive and negative words! Just load the files and go! Of course if you want more positive and negative words you can always edit the files.\n\n- Positive words are in `NYC3-pos.txt`\n- Negative words are in `NYC3-neg.txt`\n\nYou will have to write a function called `LoadWords(filename)` to read the words from the file and load them into a string.\n\n## Step 1: Problem Analysis for function\n\nInput (function arguments): `filename` to read.\nOutput (function returns): a `text` string of words as loaded from the file.\n\nAlgorithm:\n\n```\nopen the filename for reading\n    read the entire file all at once, into text\n    return the text\n```\n"
    },
    {
      "metadata": {
        "trusted": true
      },
      "cell_type": "code",
      "source": "## Step 2: Write the LoadWords(filename) function\ndef LoadWords(filename):\n    with open (filename, 'r') as file:\n        for line in file.readlines():\n            return line\n    ",
      "execution_count": 1,
      "outputs": []
    },
    {
      "metadata": {
        "trusted": true
      },
      "cell_type": "code",
      "source": "## Quick test of your LoadWords() function\npos = LoadWords(\"NYC3-pos.txt\")\nneg = LoadWords(\"NYC3-neg.txt\")\nprint(\"POSITIVE WORD LIST:\",pos)\nprint(\"NEGATIVE WORD LIST\", neg)",
      "execution_count": 2,
      "outputs": [
        {
          "output_type": "stream",
          "text": "POSITIVE WORD LIST: good love like great wonderful fast helpful smart friendly happy joy\nNEGATIVE WORD LIST bad hate dislike horrible stinks awful slow clueless useless dumb sad\n",
          "name": "stdout"
        }
      ]
    },
    {
      "metadata": {},
      "cell_type": "markdown",
      "source": "## Step 3: The Final Program\n  \nNow write a program which allows you to enter text and then analyzes the sentiment of the text by printing a score. The program should keep analyzing text input until you enter \"quit\".\n\nSample Run\n\n```\nSentiment Analyzer 1.0\nType 'quit' to exit.\nEnter Text: i love a good book from amazon\n2 positive.\nEnter Text: i hate amazon their service makes me angry\n-2 negative.\nEnter Text: i love to hate amazon\n0 neutral.\nEnter Text: quit\n```\n\n### 3.a Problem Analysis\n\nInput:\n\nOutput:\n\nAlgorithm:\n\n\n\n"
    },
    {
      "metadata": {
        "trusted": true
      },
      "cell_type": "code",
      "source": "## 3.b Write solution here, use Load Words to help you read in the pos and neg words.\nimport string\n\ndef StripPunctuation(text):\n    for ch in text:\n        if ch in string.punctuation:\n            text = text.replace(ch,',')\n    return text\n\ndef ScoreSentiment(pos,neg,text):\n    score = 0\n    text.lower()\n    words = text.split()\n    for word in words:\n        if word in pos.split():\n            score +=1\n        elif word in neg.split():\n            score -=1\n    return score\n\nprint(\"Sentiment Analyzer 1.0\")\nprint(\"Type 'quit' to exit\")\n\npos = LoadWords(\"NYC3-pos.txt\")\nneg = LoadWords(\"NYC3-neg.txt\")\n\nprint (pos)\n\nwhile True:\n    text = StripPunctuation(input(\"Enter Text:\").lower())\n\n    if text.lower() == 'quit':\n        break\n    score = ScoreSentiment(pos,neg,text)\n    if score >0:\n        print(\"%d Positive words\" %(score))\n    elif score <0:\n        print(\"%d Negative words\" %(score))\n",
      "execution_count": null,
      "outputs": [
        {
          "output_type": "stream",
          "text": "Sentiment Analyzer 1.0\nType 'quit' to exit\ngood love like great wonderful fast helpful smart friendly happy joy\nEnter Text:GOOD\n1 Positive words\n",
          "name": "stdout"
        }
      ]
    },
    {
      "metadata": {},
      "cell_type": "markdown",
      "source": "## Step 4: Questions\n\n1. This is a better solution than sentiment 1.0. Why?\nit puts the text in lower case and more accurately lists the positive to negative ratio\n2. Execute the program and enter the following input: `i love! a GOOD book` What is the score and why? how can this issue be fixed?\n1 positive word\nthis could be fixed by making it so text is put through the lower function\n3. Re-write your final solution to address the issues discovered in step 2.\nyessir"
    },
    {
      "metadata": {},
      "cell_type": "markdown",
      "source": "## Reminder of Evaluation Criteria\n\n1. What the problem attempted (analysis, code, and answered questions) ?\n2. What the problem analysis thought out? (does the program match the plan?)\n3. Does the code execute without syntax error?\n4. Does the code solve the intended problem?\n5. Is the code well written? (easy to understand, modular, and self-documenting, handles errors)\n"
    },
    {
      "metadata": {
        "trusted": false
      },
      "cell_type": "code",
      "source": "",
      "execution_count": null,
      "outputs": []
    }
  ],
  "metadata": {
    "anaconda-cloud": {},
    "kernelspec": {
      "name": "python3",
      "display_name": "Python 3",
      "language": "python"
    },
    "language_info": {
      "mimetype": "text/x-python",
      "nbconvert_exporter": "python",
      "name": "python",
      "file_extension": ".py",
      "version": "3.5.4",
      "pygments_lexer": "ipython3",
      "codemirror_mode": {
        "version": 3,
        "name": "ipython"
      }
    }
  },
  "nbformat": 4,
  "nbformat_minor": 1
}