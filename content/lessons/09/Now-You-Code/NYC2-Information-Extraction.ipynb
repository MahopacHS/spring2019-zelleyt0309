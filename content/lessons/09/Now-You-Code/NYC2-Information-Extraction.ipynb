{
  "cells": [
    {
      "metadata": {},
      "cell_type": "markdown",
      "source": "# Now You Code 2: Information Extraction\n\nHow do we make computers seem intelligent? One approach is to use *term extraction*. Term extration is a type of information extration where we attempt to find relevant terms in text. The relevant terms come from a *corpus*, or set of plausible terms we want to extract.\n\nFor example, suppose we have the text:\n\n`One day I would like to visit Syracuse`\n\nWe has smart humans can be fairly confident that `Syracuse` is a place, more specifically a `city`. \n\nA rudimentary method to make the computer interpret `Syracuse` as a place is to provide a corpus of cities and have the computer look up `Syracuse` in that corpus. \n\nIn this code exercise we will do just that. Let's first write a function to read cities from the file `NYC2-cities.txt` into a corpus of cities, which will be represented in Python as a list.\n\nThen write a main program loop to input some text, split the text into a list of words and if any of the words match a city in the corpus list we will output the word is a city.\n\nThe program should handle upper / lower case matching. A good approach is to title case the input. \n\nIMPORTANT: Please note that our program will ONLY work for one word cities, like `Syracuse` and will not work for multiple-word cities like `San Diego`. Don't worry about that now. \n\nSAMPLE RUN\n\n```\nEnter some text (or ENTER to quit): one day I would like to visit syraucse and rochester\nSyracuse is a city\nRochester is a city\nEnter some text (or ENTER to quit): austin is in texas\nAustin is a city\nEnter some text (or ENTER to quit): \nQuitting...\n```\n\nOnce again we will solve this problem using the problem simplification approach. First we will write the `load_city_corpus` function to build our city list. Second we will write the  `is_a_city` function which given a word and a city list will return `True` when the word is a city. Finally we conclude with the main program which finds cities in our text, as demonstrated in our sample run."
    },
    {
      "metadata": {
        "collapsed": true
      },
      "cell_type": "markdown",
      "source": "## Step 1: Problem Analysis for `load_city_corpus`\n\nInputs: None (reads from a file)\n\nOutputs: a Python list of cities\n\nAlgorithm (Steps in Program):\n\n"
    },
    {
      "metadata": {
        "collapsed": true,
        "trusted": false
      },
      "cell_type": "code",
      "source": "## Step 2: write the defintion for the load_city_corpus function\ndef load_city_corpus:\n    ",
      "execution_count": null,
      "outputs": []
    },
    {
      "metadata": {},
      "cell_type": "markdown",
      "source": "## Step 3: Problem Analysis for `is_a_city`\n\nInputs: a string word and a Python list of cities\n\nOutputs: True or False when word is in the list of cities.\n\nAlgorithm (Steps in Program):\n\n"
    },
    {
      "metadata": {
        "collapsed": true,
        "trusted": false
      },
      "cell_type": "code",
      "source": "## Step 4: write the definition for the is_a_city function\n",
      "execution_count": null,
      "outputs": []
    },
    {
      "metadata": {},
      "cell_type": "markdown",
      "source": "## Step 5: Problem Analysis for entire program\n\nInputs:\n\nOutputs:\n\nAlgorithm (Steps in Program): (make sure to use the two functions we created)\n\n"
    },
    {
      "metadata": {
        "collapsed": true,
        "trusted": false
      },
      "cell_type": "code",
      "source": "## Step 6: Write complete program, making sure to use your two functions.\n",
      "execution_count": 1,
      "outputs": []
    },
    {
      "metadata": {
        "collapsed": true
      },
      "cell_type": "markdown",
      "source": "## Step 7: Questions\n\n1. Explain your approach to solving this problem for cities with 2 words like `New York` or `Los Angeles`?\n2. How would you solve the problem where you enter a city name which is not in the corpus?\n"
    },
    {
      "metadata": {
        "collapsed": true
      },
      "cell_type": "markdown",
      "source": "## Reminder of Evaluation Criteria\n\n1. What the problem attempted (analysis, code, and answered questions) ?\n2. What the problem analysis thought out? (does the program match the plan?)\n3. Does the code execute without syntax error?\n4. Does the code solve the intended problem?\n5. Is the code well written? (easy to understand, modular, and self-documenting, handles errors)\n"
    },
    {
      "metadata": {
        "collapsed": true,
        "trusted": false
      },
      "cell_type": "code",
      "source": "",
      "execution_count": null,
      "outputs": []
    }
  ],
  "metadata": {
    "anaconda-cloud": {},
    "kernelspec": {
      "name": "python3",
      "display_name": "Python 3",
      "language": "python"
    },
    "language_info": {
      "mimetype": "text/x-python",
      "nbconvert_exporter": "python",
      "name": "python",
      "pygments_lexer": "ipython3",
      "version": "3.5.4",
      "file_extension": ".py",
      "codemirror_mode": {
        "version": 3,
        "name": "ipython"
      }
    }
  },
  "nbformat": 4,
  "nbformat_minor": 1
}