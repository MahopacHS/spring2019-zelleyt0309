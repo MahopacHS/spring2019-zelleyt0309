{
  "cells": [
    {
      "metadata": {},
      "cell_type": "markdown",
      "source": "# End-To-End Example: Password Program\n\nPassword Program:\n\n- 5 attempts for the password\n- On correct password, print: “Access Granted”, then end the program \n- On incorrect password “Invalid Password Attempt #” and give the user another try\n- After 5 attempts, print “You are locked out”. Then end the program.\n"
    },
    {
      "metadata": {
        "trusted": true
      },
      "cell_type": "code",
      "source": "secret = \"rhubarb\"\nattempts = 0\nwhile True:\n    password = input(\"Enter Password: \")\n    attempts= attempts + 1\n    if password == secret:\n        print(\"Access Granted!\")\n        break \n    print(\"Invalid password attempt #\",attempts)\n    if attempts == 5:\n        print(\"You are locked out\")\n        break",
      "execution_count": 3,
      "outputs": [
        {
          "output_type": "stream",
          "name": "stdout",
          "text": "Enter Password: passwords_are_4_chumps\nInvalid password attempt # 1\nEnter Password: 420_blaze_it_69_69_damn_I'm_a_savage\nInvalid password attempt # 2\nEnter Password: Comrade_Blau_is_not_really_Russian\nInvalid password attempt # 3\nEnter Password: vegans_take(homes)_from--animals\nInvalid password attempt # 4\nEnter Password: rhubarb\nAccess Granted!\n"
        }
      ]
    },
    {
      "metadata": {
        "collapsed": true,
        "trusted": false
      },
      "cell_type": "code",
      "source": "",
      "execution_count": null,
      "outputs": []
    },
    {
      "metadata": {
        "collapsed": true,
        "trusted": false
      },
      "cell_type": "code",
      "source": "",
      "execution_count": null,
      "outputs": []
    }
  ],
  "metadata": {
    "anaconda-cloud": {},
    "kernelspec": {
      "name": "python3",
      "display_name": "Python 3",
      "language": "python"
    },
    "language_info": {
      "mimetype": "text/x-python",
      "nbconvert_exporter": "python",
      "name": "python",
      "pygments_lexer": "ipython3",
      "version": "3.5.4",
      "file_extension": ".py",
      "codemirror_mode": {
        "version": 3,
        "name": "ipython"
      }
    }
  },
  "nbformat": 4,
  "nbformat_minor": 1
}