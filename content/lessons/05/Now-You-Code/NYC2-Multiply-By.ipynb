{
  "cells": [
    {
      "metadata": {},
      "cell_type": "markdown",
      "source": "# Now You Code 2: Multiply By\n\nWrite a program to ask for a number to multiply by and then lists the multiplication table for that number from 1 to 10. This process will repeat until you enter quit as which point the program will exit.\n\nWow. Seems complicated! We'll use technique called problem simplification to make this problem a little easier to solve.\n\nFirst we'll write a complete program to solve *part* of the problem, then we will take our new level of understanding to solve the *entire* problem.\n\n## Start with Sub-Problem 1\n\nLet's write a program to simply input a number and then uses a loop to print out the multiplication table up to 10  for that number. \n\nFor example, when you input `5`:\n\n```\nEnter number to multiply by: 5\n1 x 5 = 5\n2 x 5 = 10\n3 x 5 = 15\n4 x 5 = 20\n5 x 5 = 25\n6 x 5 = 30\n7 x 5 = 35\n8 x 5 = 40\n9 x 5 = 45\n10 x 5 = 50\n```\n"
    },
    {
      "metadata": {
        "collapsed": true
      },
      "cell_type": "markdown",
      "source": "## Step 1: Problem Analysis for Sub-Problem 1\n\nInputs: number to loop a multiplication table\n\nOutputs: multiplication table\n\nAlgorithm (Steps in Program): take the input, do some black box magic, and turn it into the output\n\n\n"
    },
    {
      "metadata": {
        "trusted": true
      },
      "cell_type": "code",
      "source": "# Step 2: write code for sub-problem 1\ncount = 0\nloop = 1\nnumber = 0\nnumber = int(input(\"Enter a number to be put through the multiplication table: \"))\nwhile count <10:\n    equals = (loop)*(number)\n    print(loop,\" x \",number,\" = \",equals)\n    count = count+1\n    loop = loop+1",
      "execution_count": 13,
      "outputs": [
        {
          "output_type": "stream",
          "name": "stdout",
          "text": "Enter a number to be put through the multiplication table: 5\n1  x  5  =  5\n2  x  5  =  10\n3  x  5  =  15\n4  x  5  =  20\n5  x  5  =  25\n6  x  5  =  30\n7  x  5  =  35\n8  x  5  =  40\n9  x  5  =  45\n10  x  5  =  50\n"
        }
      ]
    },
    {
      "metadata": {},
      "cell_type": "markdown",
      "source": "# Full Problem \n\nNow that we've got part of the problem figured out, let's solve the entire problem. The program should keep asking for numbers and then print out multiplcation tables until you enter `quit`. Here's an example:\n\nExample Run:\n\n```\nEnter number to multiply by or type 'quit': 10\n1 x 10 = 10\n2 x 10 = 20\n3 x 10 = 30\n4 x 10 = 40\n5 x 10 = 50\n6 x 10 = 60\n7 x 10 = 70\n8 x 10 = 80\n9 x 10 = 90\n10 x 10 = 100\nEnter number to multiply by or type 'quit': 5\n1 x 5 = 5\n2 x 5 = 10\n3 x 5 = 15\n4 x 5 = 20\n5 x 5 = 25\n6 x 5 = 30\n7 x 5 = 35\n8 x 5 = 40\n9 x 5 = 45\n10 x 5 = 50\nEnter number to multiply by or type 'quit': quit\n```\n\n**NOTE:** you need another loop complete this program. Take the code you wrote in the first part and repeat it in another loop until you type quit. "
    },
    {
      "metadata": {
        "collapsed": true
      },
      "cell_type": "markdown",
      "source": "## Step 3: Problem Analysis for Full Problem\n\nInputs: number to be multiplied, whether to quit the loop or not\n\nOutputs: multiplication table\n\nAlgorithm (Steps in Program): you put the number, it does the stuff, you get more numbers"
    },
    {
      "metadata": {
        "trusted": true
      },
      "cell_type": "code",
      "source": "# Step 4: Write code for full problem\ncount = 0\nloop = 1\nnumber = 0\ninto = 0\n\ninto = input(\"Enter a number to multiply or type 'quit': \")\n\nif into == 'quit':\n        exit(0)\nwhile into !='quit':    \n    \n    number = int(into)\n    \n    count = 0\n    loop = 1\n    while count <10:\n        equals = (loop)*(number)\n        print(loop,\" x \",number,\" = \",equals)\n        count = count+1\n        loop = loop+1\n    into = input(\"Enter a number to multiply or type 'quit': \")",
      "execution_count": 2,
      "outputs": [
        {
          "output_type": "stream",
          "name": "stdout",
          "text": "Enter a number to multiply or type 'quit': 1\n1  x  1  =  1\n2  x  1  =  2\n3  x  1  =  3\n4  x  1  =  4\n5  x  1  =  5\n6  x  1  =  6\n7  x  1  =  7\n8  x  1  =  8\n9  x  1  =  9\n10  x  1  =  10\nEnter a number to multiply or type 'quit': 2\n1  x  2  =  2\n2  x  2  =  4\n3  x  2  =  6\n4  x  2  =  8\n5  x  2  =  10\n6  x  2  =  12\n7  x  2  =  14\n8  x  2  =  16\n9  x  2  =  18\n10  x  2  =  20\nEnter a number to multiply or type 'quit': quit\n"
        }
      ]
    },
    {
      "metadata": {},
      "cell_type": "markdown",
      "source": "## Step 3: Questions\n\n1. What is the loop control variable for the first (outer) loop?\nrun\n2. What is the loop control variable for the second (inner) loop? \nnumber\n3. Provide at least one way this program can be improved, or make more flexible by introducing more inputs?\nyou could make it so there are other answers for the first loop which will cancel it"
    },
    {
      "metadata": {},
      "cell_type": "markdown",
      "source": "## Reminder of Evaluation Criteria\n\n1. What the problem attempted (analysis, code, and answered questions) ?\n2. What the problem analysis thought out? (does the program match the plan?)\n3. Does the code execute without syntax error?\n4. Does the code solve the intended problem?\n5. Is the code well written? (easy to understand, modular, and self-documenting, handles errors)\n"
    },
    {
      "metadata": {
        "collapsed": true,
        "trusted": false
      },
      "cell_type": "code",
      "source": "",
      "execution_count": null,
      "outputs": []
    }
  ],
  "metadata": {
    "anaconda-cloud": {},
    "kernelspec": {
      "name": "python3",
      "display_name": "Python 3",
      "language": "python"
    },
    "language_info": {
      "mimetype": "text/x-python",
      "nbconvert_exporter": "python",
      "name": "python",
      "file_extension": ".py",
      "version": "3.5.4",
      "pygments_lexer": "ipython3",
      "codemirror_mode": {
        "version": 3,
        "name": "ipython"
      }
    }
  },
  "nbformat": 4,
  "nbformat_minor": 1
}