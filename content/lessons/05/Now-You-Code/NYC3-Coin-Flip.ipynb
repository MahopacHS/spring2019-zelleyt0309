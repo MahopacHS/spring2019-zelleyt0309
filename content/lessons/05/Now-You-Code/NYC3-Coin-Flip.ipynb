{
  "cells": [
    {
      "metadata": {},
      "cell_type": "markdown",
      "source": "# Now You Code 3: Coin Flips\n\nWrite a program to simulate 100,000 coin flips. The program should output\nthe tally of heads and tails across the number of flips.\n\nFor Example:\nAfter 100000 flips. Heads: 50030, Tails 49970\n\nOf course, since the flips are random, the counts will vary each time the program executes.\n\nYour strategy should be to use a loop to flip a coin 100,000 times.\nAfter you flip you should check for heads or tails and increment the count\naccordingly.\n\n### How do you make Python simulate a coin flip?"
    },
    {
      "metadata": {
        "trusted": true
      },
      "cell_type": "code",
      "source": "# Sample code which demostrates how to flip a coin in python\nimport random \ncoin = ['heads', 'tails']\nflip = random.choice(coin)\nprint(flip)",
      "execution_count": 1,
      "outputs": [
        {
          "output_type": "stream",
          "text": "heads\n",
          "name": "stdout"
        }
      ]
    },
    {
      "metadata": {},
      "cell_type": "markdown",
      "source": "Run the cell above a couple of times. Notice how each time you execute the code, it comes up as either `heads` or `tails`.\n\nHere's a breakdown of the code\n\n```\nline 1 imports the random module\nline 2 sets up a coin to have two choices heads or tails\nline 3 \"flips\" a coin by making a random choice among the values of the coin ('heads' or 'tails')\nline 4 prints the results of the coin flip.\n```\n\nNow that you understand how to simulate a coin flip a Python, try to design then write code for the program."
    },
    {
      "metadata": {
        "collapsed": true
      },
      "cell_type": "markdown",
      "source": "## Step 1: Problem Analysis \n\nInputs: no inputs\n\nOutputs: coin flip\n\nAlgorithm (Steps in Program): chooses a random side of the coin, though true random doesn't exist\n\n\n"
    },
    {
      "metadata": {
        "trusted": true
      },
      "cell_type": "code",
      "source": "import random\n# Step 2: write code for program\ncoin = ['heads', 'tails']\nheads = 0\ntails = 0\ncount = 0\ni = int(input(\"How many times do you want to flip the coin? \"))\nwhile count !=i: \n    flip = random.choice(coin)\n    if flip == \"heads\":\n        heads = heads+1\n    else:\n        tails = tails+1\n    count = count +1\nprint(\"Heads: \",heads)\nprint(\"Tails: \",tails)",
      "execution_count": 3,
      "outputs": [
        {
          "output_type": "stream",
          "name": "stdout",
          "text": "How many times do you want to flip the coin? 100000\nHeads:  49678\nTails:  50322\n"
        }
      ]
    },
    {
      "metadata": {},
      "cell_type": "markdown",
      "source": "## Step 3: Questions\n\n1. Which loop did you use to solve the problem? What is a definite or indefinite loop?\nwhile loop\ndef loop means that there is a set way out of the loop\nindef loop means that it will just keep on looping\n2. Modify this program to allow you to input the number of times you would like to flip the coin. NOTE: if you enter a large number, the program could take a few minutes to execute. Be Patient!!!\nokay\n3. Explain how could this progam could be modified to track flipping a \"three\" sided coin with `heads`, `tails` and `foos` for example? Do not modify the code, only explain your strategy.\nI would just change the list to have three things\n"
    },
    {
      "metadata": {},
      "cell_type": "markdown",
      "source": "## Reminder of Evaluation Criteria\n\n1. What the problem attempted (analysis, code, and answered questions) ?\n2. What the problem analysis thought out? (does the program match the plan?)\n3. Does the code execute without syntax error?\n4. Does the code solve the intended problem?\n5. Is the code well written? (easy to understand, modular, and self-documenting, handles errors)\n"
    },
    {
      "metadata": {
        "collapsed": true,
        "trusted": false
      },
      "cell_type": "code",
      "source": "",
      "execution_count": null,
      "outputs": []
    }
  ],
  "metadata": {
    "anaconda-cloud": {},
    "kernelspec": {
      "name": "python3",
      "display_name": "Python 3",
      "language": "python"
    },
    "language_info": {
      "mimetype": "text/x-python",
      "nbconvert_exporter": "python",
      "name": "python",
      "pygments_lexer": "ipython3",
      "version": "3.5.4",
      "file_extension": ".py",
      "codemirror_mode": {
        "version": 3,
        "name": "ipython"
      }
    }
  },
  "nbformat": 4,
  "nbformat_minor": 1
}