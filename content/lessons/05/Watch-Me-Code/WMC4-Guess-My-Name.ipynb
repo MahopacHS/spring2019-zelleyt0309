{
  "cells": [
    {
      "metadata": {},
      "cell_type": "markdown",
      "source": "# Watch Me Code 4: Guess My Name\n\nThis program will execute until you guess my name.\n"
    },
    {
      "metadata": {
        "trusted": true
      },
      "cell_type": "code",
      "source": "name = \"Mike\"\nguess = \"\"\nwhile True:\n    guess = input(\"Guess my name? \")\n    if guess== name:               \n        print(\"You guessed it, finally!\")\n        break\n    print(\"Nope...not it!\")",
      "execution_count": 2,
      "outputs": [
        {
          "output_type": "stream",
          "name": "stdout",
          "text": "Guess my name? Billy Bob Thorton\nNope...not it!\nGuess my name? Squanto\nNope...not it!\nGuess my name? mIKE\nNope...not it!\nGuess my name? Mike\nYou guessed it, finally!\n"
        }
      ]
    },
    {
      "metadata": {
        "collapsed": true,
        "trusted": false
      },
      "cell_type": "code",
      "source": "",
      "execution_count": null,
      "outputs": []
    }
  ],
  "metadata": {
    "anaconda-cloud": {},
    "kernelspec": {
      "name": "python3",
      "display_name": "Python 3",
      "language": "python"
    },
    "language_info": {
      "mimetype": "text/x-python",
      "nbconvert_exporter": "python",
      "name": "python",
      "pygments_lexer": "ipython3",
      "version": "3.5.4",
      "file_extension": ".py",
      "codemirror_mode": {
        "version": 3,
        "name": "ipython"
      }
    }
  },
  "nbformat": 4,
  "nbformat_minor": 1
}