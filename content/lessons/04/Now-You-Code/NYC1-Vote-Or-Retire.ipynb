{
  "cells": [
    {
      "metadata": {},
      "cell_type": "markdown",
      "source": "# Now You Code 1: Vote or Retire?\n\n# Part 1\n\nWrite a program to ask for your age as input, then output whether or not you can vote and whether your not you can retire. Let's assume the voting age is 18 or higher, and the retirement age is 65 or higher.\n\n**NOTE:** This program is making two seprate decisions, and thus should have two separate if else statements.\n\nExample Run:\n\n```\nEnter your age: 45\nYou can vote.\nYou cannot retire.\n```\n"
    },
    {
      "metadata": {
        "collapsed": true
      },
      "cell_type": "markdown",
      "source": "## Step 1: Problem Analysis\n\nInputs: age\n\nOutputs: facts about your age\n\nAlgorithm (Steps in Program): tells you if you're old\n\n\n"
    },
    {
      "metadata": {
        "trusted": true
      },
      "cell_type": "code",
      "source": "#Step 2: write code here\nage = int (input(\"How old are you? \"))\nif age >=18:\n    print(\"You can vote.\")\n    if age >=65:\n        print(\"You can retire.\")\n    else: \n        print(\"You cannot retire.\")\n        \nelse:\n    print(\"You cannot vote.\")\n    print(\"You cannot retire.\")\n",
      "execution_count": 10,
      "outputs": [
        {
          "output_type": "stream",
          "name": "stdout",
          "text": "How old are you? 78\nYou can vote.\nYou can retire.\n"
        }
      ]
    },
    {
      "metadata": {},
      "cell_type": "markdown",
      "source": "# Part 2\n\nNow that you got it working,  re-write your code to handle bad input using Python's `try... except` statement:\n\nExample run:\n\n```\nEnter your age: threve\nThat's not an age!\n```\n\n**Note:** Exception handling is not part of our algorithm. It's a programming concern, not a problem-solving concern!"
    },
    {
      "metadata": {
        "trusted": true
      },
      "cell_type": "code",
      "source": "## Step 2 (again): write code again but handle errors with try...except\ntry:\n    age = int (input(\"How old are you? \"))\n    if age >=18:\n        print(\"You can vote.\")\n        if age >=65:\n            print(\"You can retire.\")\n        elif age <64: \n            print(\"You cannot retire.\")\n    elif age <=0:\n        print(\"That is not an age!\")\n    else:\n        print(\"You cannot vote.\")\n        print(\"You cannot retire.\")\n\nexcept:\n    print(\"That is not an age!\")",
      "execution_count": 20,
      "outputs": [
        {
          "output_type": "stream",
          "name": "stdout",
          "text": "How old are you? 0\nThat is not an age!\n"
        }
      ]
    },
    {
      "metadata": {},
      "cell_type": "markdown",
      "source": "## Step 3: Questions\n\n1. What specific Python Error are we handling (please provide the name of it)?\nsyntax?\n2. What happens when you enter an age of `-50`? Does the program still run? Fix your program so that it says `That's not an age` when a value less than zero is entered.\nIt runs and treats it as number less than 18\n3. How many times (at minimum) must we execute this program and check the results before we can be reasonably assured it is correct?\n5 times"
    },
    {
      "metadata": {},
      "cell_type": "markdown",
      "source": "## Reminder of Evaluation Criteria\n\n1. What the problem attempted (analysis, code, and answered questions) ?\n2. What the problem analysis thought out? (does the program match the plan?)\n3. Does the code execute without syntax error?\n4. Does the code solve the intended problem?\n5. Is the code well written? (easy to understand, modular, and self-documenting, handles errors)\n"
    },
    {
      "metadata": {
        "collapsed": true,
        "trusted": false
      },
      "cell_type": "code",
      "source": "",
      "execution_count": null,
      "outputs": []
    }
  ],
  "metadata": {
    "anaconda-cloud": {},
    "kernelspec": {
      "name": "python3",
      "display_name": "Python 3",
      "language": "python"
    },
    "language_info": {
      "mimetype": "text/x-python",
      "nbconvert_exporter": "python",
      "name": "python",
      "file_extension": ".py",
      "version": "3.5.4",
      "pygments_lexer": "ipython3",
      "codemirror_mode": {
        "version": 3,
        "name": "ipython"
      }
    }
  },
  "nbformat": 4,
  "nbformat_minor": 1
}