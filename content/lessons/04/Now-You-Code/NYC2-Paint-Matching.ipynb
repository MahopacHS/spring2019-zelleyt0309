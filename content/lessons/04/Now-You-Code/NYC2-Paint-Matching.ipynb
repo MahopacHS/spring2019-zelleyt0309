{
  "cells": [
    {
      "metadata": {},
      "cell_type": "markdown",
      "source": "# Now You Code 2: Paint Pricing\n\nHouse Depot, a big-box hardware retailer, has contracted you to create an app to calculate paint prices. \n\nThe price of paint is determined by the following factors:\n- Everyday quality paint is `$19.99` per gallon.\n- Select quality paint is `$24.99` per gallon.\n- Premium quality paint is `$32.99` per gallon.\n\nIn addition if the customer wants computerized color-matching that incurs an additional fee of `$4.99` per gallon. \n\nWrite a program to ask the user to select a paint quality: 'everyday', 'select' or 'premium' and then whether they need color matching and then outputs the price per gallon of the paint.\n\nExample Run 1:\n\n```\nWhich paint quality do you require ['everyday', 'select', 'premium'] ?select\nDo you require color matching [y/n] ?y\nTotal price of select paint with color matching is $29.98\n```\n\nExample Run 2:\n\n```\nWhich paint quality do you require ['everyday', 'select', 'premium'] ?premium\nDo you require color matching [y/n] ?n\nTotal price of premium paint without color matching is $32.99\n```"
    },
    {
      "metadata": {
        "collapsed": true
      },
      "cell_type": "markdown",
      "source": "## Step 1: Problem Analysis\n\nInputs: paint quality and whether you want color matching\n\nOutputs: cost\n\nAlgorithm (Steps in Program): get input, calculate price, output it\n\n"
    },
    {
      "metadata": {
        "trusted": true
      },
      "cell_type": "code",
      "source": "# Step 2: Write code here\nquality = input(\"What paint quality do you require? ['everyday', 'select', 'premium'] \")\ncost = 0\nif quality == \"everyday\": \n    cost = 19.99\nelif quality == \"select\":\n    cost = 24.99\nelif quality == \"premium\":\n    cost = 32.99\nelse:\n    print(\"That is not a paint quality\")\n    raise SystemExit\nmatch = input(\"Do you require color matching? \")\nif match == 'y':\n    cost = cost+4.99\n    print(\"Total cost of %s paint with color matching is $%.2f\"%(quality, cost))\nelif match == 'n':\n    print(\"Total cost of %s paint without color matching is $%.2f\"%(quality, cost))\nelse:\n    print(\"you must input either 'y' or 'n'\")",
      "execution_count": 3,
      "outputs": [
        {
          "output_type": "stream",
          "name": "stdout",
          "text": "What paint quality do you require? ['everyday', 'select', 'premium'] premium\nDo you require color matching? y\nTotal cost of premium paint with color matching is $37.98\n"
        }
      ]
    },
    {
      "metadata": {},
      "cell_type": "markdown",
      "source": "## Step 3: Questions\n\n1. When you enter something other than `'everyday', 'select',` or  `'premium'` what happens? Modify the program to print `that is not a paint quality` and then exit in those cases.\nI was unsure of how to exit so I looked it up and used \"raise SystemExit\" which force quits the program\n2. What happens when you enter something other than `'y'` or `'n'` for color matching? Re-write the program to print `you must enter y or n` whenever you enter something other than those two values.\n3. Why can't we use Python's `try...except` in this example?\nwe can't use the try...except in this example because that will stop the program if there is an error at any point while we only want to quit it if the user inputs an invalid type of paint quality\n4. How many times (at minimum) must we execute this program and check the results before we can be reasonably assured it is correct?\nI would do it 9 times"
    },
    {
      "metadata": {},
      "cell_type": "markdown",
      "source": "## Reminder of Evaluation Criteria\n\n1. What the problem attempted (analysis, code, and answered questions) ?\n2. What the problem analysis thought out? (does the program match the plan?)\n3. Does the code execute without syntax error?\n4. Does the code solve the intended problem?\n5. Is the code well written? (easy to understand, modular, and self-documenting, handles errors)\n"
    },
    {
      "metadata": {
        "collapsed": true,
        "trusted": false
      },
      "cell_type": "code",
      "source": "",
      "execution_count": null,
      "outputs": []
    }
  ],
  "metadata": {
    "anaconda-cloud": {},
    "kernelspec": {
      "name": "python3",
      "display_name": "Python 3",
      "language": "python"
    },
    "language_info": {
      "mimetype": "text/x-python",
      "nbconvert_exporter": "python",
      "name": "python",
      "file_extension": ".py",
      "version": "3.5.4",
      "pygments_lexer": "ipython3",
      "codemirror_mode": {
        "version": 3,
        "name": "ipython"
      }
    }
  },
  "nbformat": 4,
  "nbformat_minor": 1
}