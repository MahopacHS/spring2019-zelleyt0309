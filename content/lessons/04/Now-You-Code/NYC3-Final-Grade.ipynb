{
  "cells": [
    {
      "metadata": {},
      "cell_type": "markdown",
      "source": "# Now You Code 3: Final Grade in IST256\n\n# Part 1\n\nOur Course Syllabus has a grading scale here:\n\nhttp://ist256.syr.edu/syllabus/#grading-scale\n\nWrite a Python program to input a number of points earned out of 600 and then\noutputs the registrar letter grade. \n\nFor example:\n\n    IST256 Grade Calculator\n    Enter total points out of 600:  550\n    Grade: A- \n"
    },
    {
      "metadata": {
        "collapsed": true
      },
      "cell_type": "markdown",
      "source": "## Step 1: Problem Analysis\n\nInputs: points out of 600 earned\n\nOutputs: letter grade\n\nAlgorithm (Steps in Program): divide the input by 600, determine the letter grade, and output it\n\n\n"
    },
    {
      "metadata": {
        "trusted": true
      },
      "cell_type": "code",
      "source": "#Step 2: write code here\ngrade = int(input(\"Enter total points out of 600: \"))\nif grade >=570 and grade <=600:\n    print(\"Grade: A\")\nelif grade <=569 and grade >=540:\n    print(\"Grade: A-\")\nelif grade <=539 and grade >=510:\n    print(\"Grade: B+\")\nelif grade <=509 and grade >=480:\n    print(\"Grade: B\")\nelif grade <=479 and grade >=450:\n    print(\"Grade: B-\")\nelif grade <=449 and grade >=420:\n    print(\"Grade: C+\")\nelif grade <=419 and grade >=390:\n    print(\"Grade: C\")\nelif grade <=389 and grade >=360:\n    print(\"Grade: C-\")\nelif grade <=359 and grade >=300:\n    print(\"Grade: D\")\nelif grade <=299 and grade >=0:\n    print(\"Grade: F\")\nelse:\n    print(\"That is an invalid amount of points\")",
      "execution_count": 38,
      "outputs": [
        {
          "output_type": "stream",
          "name": "stdout",
          "text": "Enter total points out of 600: -1\nThat is an invalid amount of points\n"
        }
      ]
    },
    {
      "metadata": {},
      "cell_type": "markdown",
      "source": "# Part 2\n\nNow that you got it working,  re-write your code to handle bad input. Specifically:\n\n\n- non integer values\n- integer values outside the 0 to 600 range.\n\n**Note:** Exception handling is not part of our algorithm. It's a programming concern, not a problem-solving concern!"
    },
    {
      "metadata": {
        "trusted": false
      },
      "cell_type": "code",
      "source": "## Step 2 (again): write code again but handle errors with try...except\n## I just happened to make the code like this in my first one before reading the instructions for the second one\ngrade = int(input(\"Enter total points out of 600: \"))\nif grade >=570 and grade <=600:\n    print(\"Grade: A\")\nelif grade <=569 and grade >=540:\n    print(\"Grade: A-\")\nelif grade <=539 and grade >=510:\n    print(\"Grade: B+\")\nelif grade <=509 and grade >=480:\n    print(\"Grade: B\")\nelif grade <=479 and grade >=450:\n    print(\"Grade: B-\")\nelif grade <=449 and grade >=420:\n    print(\"Grade: C+\")\nelif grade <=419 and grade >=390:\n    print(\"Grade: C\")\nelif grade <=389 and grade >=360:\n    print(\"Grade: C-\")\nelif grade <=359 and grade >=300:\n    print(\"Grade: D\")\nelif grade <=299 and grade >=0:\n    print(\"Grade: F\")\nelse:\n    print(\"That is an invalid amount of points\")\n",
      "execution_count": 1,
      "outputs": []
    },
    {
      "metadata": {},
      "cell_type": "markdown",
      "source": "## Step 3: Questions\n\n1. What specific Python Error are we handling (please provide the name of it)?\nI'm not really sure what this question is asking\n2. How many times must you execute this program and check the output before you can be reasonably assured your code is correct? Explain.\n12 times to get each letter, put a noninteger, a negative, and a letter for the inputs\n3. When testing this program do you think its more important to test numbers in the middle of the grade range or exactly on the boundary between one grade range and the next. Justify your response.\nI think it's more important to test the ones right next to it to make sure that you didn'y accidently put the equal sign in the wrong spot"
    },
    {
      "metadata": {},
      "cell_type": "markdown",
      "source": "## Reminder of Evaluation Criteria\n\n1. What the problem attempted (analysis, code, and answered questions) ?\n2. What the problem analysis thought out? (does the program match the plan?)\n3. Does the code execute without syntax error?\n4. Does the code solve the intended problem?\n5. Is the code well written? (easy to understand, modular, and self-documenting, handles errors)\n"
    }
  ],
  "metadata": {
    "anaconda-cloud": {},
    "kernelspec": {
      "name": "python3",
      "display_name": "Python 3",
      "language": "python"
    },
    "language_info": {
      "mimetype": "text/x-python",
      "nbconvert_exporter": "python",
      "name": "python",
      "pygments_lexer": "ipython3",
      "version": "3.5.4",
      "file_extension": ".py",
      "codemirror_mode": {
        "version": 3,
        "name": "ipython"
      }
    }
  },
  "nbformat": 4,
  "nbformat_minor": 1
}