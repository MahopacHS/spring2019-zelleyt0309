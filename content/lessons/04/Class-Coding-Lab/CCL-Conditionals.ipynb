{
  "cells": [
    {
      "metadata": {},
      "cell_type": "markdown",
      "source": "# In-Class Coding Lab: Conditionals\n\nThe goals of this lab are to help you to understand:\n\n- Relational and Logical Operators \n- Boolean Expressions\n- The if statement\n- Try / Except statement\n- How to create a program from a complex idea.\n"
    },
    {
      "metadata": {},
      "cell_type": "markdown",
      "source": "# Understanding Conditionals\n\nConditional statements permit the non-linear execution of code. Take the following example, which detects whether the input integer is odd or even:"
    },
    {
      "metadata": {
        "trusted": false
      },
      "cell_type": "code",
      "source": "number = int(input(\"Enter an integer: \"))\nif number %2==0:\n    print(\"%d is even\" % (number))\nelse:\n    print(\"%d is odd\" % (number))",
      "execution_count": 2,
      "outputs": [
        {
          "name": "stdout",
          "output_type": "stream",
          "text": "Enter an integer: 35\n35 is odd\n"
        }
      ]
    },
    {
      "metadata": {},
      "cell_type": "markdown",
      "source": "Make sure to run the cell more than once, inputting both an odd and even integers to try it out. After all, we  don't know if the code really works until we test out both options. \n\nOn line 2, you see `number %2 == 0` this is a Boolean expression at the center of the logic of this program. The expression says **number when divided by 2 has a reminder (%) equal to (==) zero**. The key to deciphering this is knowing how the `%` and `==` operators work. Understanding the basics, such as these, areessential to problem solving with programming, for once you understand the basics programming becomes an exercise in assembling them together into a workable solution.\n\nThe `if` statement evaluates this Boolean expression and when the expression is `True`, Python executes all of the code indented underneath the `if`. In the event the Boolean expression is `False`, Python executes the code indented under the `else`.\n\n\n## Now Try It\n\nWrite a similar program to input a integer and print \"Zero or Positive\" when the number is greater than or equal to zero, and \"Negative\" otherwise.\n\nTo accomplish this you **must** write a Boolean expression for **number greater than or equal to zero**, which is left up to the reader."
    },
    {
      "metadata": {
        "trusted": true
      },
      "cell_type": "code",
      "source": "# TODO write your program here:\nnumber = int(input(\"Enter an integer: \"))\nif number >0:\n    print(\"Positive\")\nelif number ==0:\n    print(\"Zero\")\nelse:\n    print(\"Negative\")",
      "execution_count": 3,
      "outputs": [
        {
          "output_type": "stream",
          "name": "stdout",
          "text": "Enter an integer: -2\nNegative\n"
        }
      ]
    },
    {
      "metadata": {},
      "cell_type": "markdown",
      "source": "# Rock, Paper Scissors\n\nIn this part of the lab we'll build out a game of Rock, Paper, Scissors. If you're not familiar with the game, I suggest reading this: [https://en.wikipedia.org/wiki/Rock%E2%80%93paper%E2%80%93scissor](https://en.wikipedia.org/wiki/Rock%E2%80%93paper%E2%80%93scissors) Knowledge of the game will help you understand the lab much better.\n\nThe objective of the lab is to teach you how to use conditionals but also get you thinking of how to solve problems with programming. We've said before its non-linear, with several attempts before you reach the final solution. You'll experience this first-hand in this lab as we figure things out one piece at a time and add them to our program."
    },
    {
      "metadata": {
        "collapsed": true,
        "trusted": false
      },
      "cell_type": "code",
      "source": "## Here's our initial To-Do list, we've still got lots to figure out.\n# 1. computer opponent select one of \"rock\", \"paper\" or \"scissors\" at random\n# 2. you input one of \"rock\", \"paper\" or \"scissors\"\n# 3. play the game and determine a winnner... (not sure how to do this yet.)\n",
      "execution_count": 27,
      "outputs": []
    },
    {
      "metadata": {},
      "cell_type": "markdown",
      "source": "## Randomizing the Computer's Selection \nLet's start by coding the TO-DO list. First we need to make the computer select from \"rock\", \"paper\" or \"scissors\" at random.\n\n\nTo accomplish this, we need to use python's `random` library, which is documented here: [https://docs.python.org/3/library/random.html](https://docs.python.org/3/library/random.html) \nIt would appear we need to use the `choice()` function, which takes a sequence of choices and returns one at random. Let's try it out."
    },
    {
      "metadata": {
        "trusted": false
      },
      "cell_type": "code",
      "source": "import random\nchoices = ['rock','paper','scissors']\ncomputer = random.choice(choices)\ncomputer",
      "execution_count": 28,
      "outputs": [
        {
          "data": {
            "text/plain": "'paper'"
          },
          "execution_count": 28,
          "metadata": {},
          "output_type": "execute_result"
        }
      ]
    },
    {
      "metadata": {},
      "cell_type": "markdown",
      "source": "Run the cell a couple of times. It should make a random selection from `choices` each time you run it.\n\nHow did I figure this out? Well I started with a web search and then narrowed it down from the Python documentation. You're not there yet, but at some point in the course you will be. When you get there you will be able to teach yourself just about anything!"
    },
    {
      "metadata": {},
      "cell_type": "markdown",
      "source": "## Getting input and guarding against stupidity\n\nWith step one out of the way, its time to move on to step 2. Getting input from the user."
    },
    {
      "metadata": {
        "trusted": false
      },
      "cell_type": "code",
      "source": "# 1. computer opponent select one of \"rock\", \"paper\" or \"scissors\" at random\nimport random\nchoices = ['rock','paper','scissors']\ncomputer = random.choice(choices)\n\n# 2. you input one of \"rock\", \"paper\" or \"scissors\"\nyou = input(\"Enter your choice: rock, paper, or scissors: \")\nprint(\"You chose %s and the computer chose %s\" % (you,computer))\n",
      "execution_count": 29,
      "outputs": [
        {
          "name": "stdout",
          "output_type": "stream",
          "text": "Enter your choice: rock, paper, or scissors: rock\nYou chose rock and the computer chose rock\n"
        }
      ]
    },
    {
      "metadata": {},
      "cell_type": "markdown",
      "source": "This is taking shape, but if you re-run the example and enter `pizza` you'll notice a problem. \n\nWe should guard against the situation when someone enters something other than 'rock', 'paper' or 'scissors' This is where our first conditional comes in to play.\n\n### In operator\n\nThe `in` operator returns a Boolean based on whether a value is in a list of values. Let's try it:\n"
    },
    {
      "metadata": {
        "trusted": false
      },
      "cell_type": "code",
      "source": "# TODO Try these:\n'rock' in choices, 'mike' in choices",
      "execution_count": 30,
      "outputs": [
        {
          "data": {
            "text/plain": "(True, False)"
          },
          "execution_count": 30,
          "metadata": {},
          "output_type": "execute_result"
        }
      ]
    },
    {
      "metadata": {},
      "cell_type": "markdown",
      "source": "### You Do It!\nNow modify the code below to only print your and the computer's selections when your input is one of the valid choices. Replace `TODO` on line `8` with a correct Boolean expression to verify what you entered is one of the valid choices."
    },
    {
      "metadata": {
        "trusted": true
      },
      "cell_type": "code",
      "source": "# 1. computer opponent select one of \"rock\", \"paper\" or \"scissors\" at random\nimport random\nchoices = ['rock','paper','scissors']\ncomputer = random.choice(choices)\n\n# 2. you input one of \"rock\", \"paper\" or \"scissors\"\nyou = input(\"Enter your choice: rock, paper, or scissors: \")\nif (you in choices):  # replace TODO on this line\n    print(\"You chose %s and the computer chose %s\" % (you,computer))\n    # 3. play the game and determine a winnner... (not sure how to do this yet.)\nelse: \n    print(\"You didn't enter 'rock', 'paper' or 'scissors'!!!\")",
      "execution_count": 6,
      "outputs": [
        {
          "output_type": "stream",
          "name": "stdout",
          "text": "Enter your choice: rock, paper, or scissors: rock\nYou chose rock and the computer chose paper\n"
        }
      ]
    },
    {
      "metadata": {},
      "cell_type": "markdown",
      "source": "## Playing the game\n\nWith the input figured out, it's time to work our final step, playing the game. The game itself has some simple rules:\n\n- rock beats scissors (rock smashes scissors)\n- scissors beats paper (scissors cuts paper)\n- paper beats rock (paper covers rock)\n\nSo for example:\n\n- If you choose rock and the computer chooses paper, you lose because paper covers rock. \n- Likewise if you select rock and the computer choose scissors, you win because rock smashes scissors.\n- If you both choose rock, it's a tie.\n\n## It's too complicated!\n\nIt still might seem too complicated to program this game, so let's use a process called **problem simplification** where we solve an easier version of the problem, then as our understanding grows, we increase the complexity until we solve the entire problem.\n\nOne common way we simplify a problem is to constrain our input. If we force us to always choose 'rock', the program becomes a little easier to write.  \n\n"
    },
    {
      "metadata": {
        "trusted": true
      },
      "cell_type": "code",
      "source": "# 1. computer opponent select one of \"rock\", \"paper\" or \"scissors\" at random\nimport random\nchoices = ['rock','paper','scissors']\ncomputer = random.choice(choices)\n\n# 2. you input one of \"rock\", \"paper\" or \"scissors\"\n# for now, make this 'rock'\nyou = 'rock' #input(\"Enter your choice: rock, paper, or scissors: \")\nif (you in choices):  \n    print(\"You chose %s and the computer chose %s\" % (you,computer))\n    \n    # 3. play the game and determine a winnner (assuming rock only for user)\n    if (you == 'rock' and computer == 'scissors'):\n        print(\"You win! Rock smashes scissors.\")\n    elif (you == 'rock' and computer=='paper'):\n        print(\"You lose! Paper covers rock.\")\n    else:\n        print(\"It's a tie!\")    \nelse: \n    print(\"You didn't enter 'rock', 'paper' or 'scissors'!!!\")",
      "execution_count": 7,
      "outputs": [
        {
          "output_type": "stream",
          "text": "You chose rock and the computer chose paper\nYou lose! Paper covers rock.\n",
          "name": "stdout"
        }
      ]
    },
    {
      "metadata": {},
      "cell_type": "markdown",
      "source": "Run the code in the cell above enough times to verify it works. (You win, you lose and you tie.) That will ensure the code you have works as intended.\n\n## Paper: Making the program a bit more complex.\n\nWith the rock logic out of the way, its time to focus on paper. We will assume you always type `paper` and then add the conditional logic to our existing code handle it.\n\nAt this point you might be wondering should I make a separate `if` statement or should I chain the conditions off the current if with `elif` ?  Since this is part of the same input, it should be an extension of the existing `if` statement. You should **only** introduce an additional conditional if you're making a separate decision, for example asking the user if they want to play again. Since this is part of the same decision (did you enter 'rock', 'paper' or 'scissors' it should be in the same `if...elif` ladder.\n\n\n### You Do It\n\nIn the code below, I've added the logic to address your input of 'paper' You only have to replace the `TODO` in the `print()` statements with the appropriate message. "
    },
    {
      "metadata": {
        "trusted": true
      },
      "cell_type": "code",
      "source": "# 1. computer opponent select one of \"rock\", \"paper\" or \"scissors\" at random\nimport random\nchoices = ['rock','paper','scissors']\ncomputer = random.choice(choices)\n\n# 2. you input one of \"rock\", \"paper\" or \"scissors\"\n# for now, make this 'rock'\nyou = 'paper' #input(\"Enter your choice: rock, paper, or scissors: \")\nif (you in choices):  \n    print(\"You chose %s and the computer chose %s\" % (you,computer))\n\n    # 3. play the game and determine a winnner (assuming paper only for user)\n    if (you == 'rock' and computer == 'scissors'):\n        print(\"You win! Rock smashes scissors.\")\n    elif (you == 'rock' and computer=='paper'):\n        print(\"You lose! Paper covers rock.\")\n    elif (you == 'paper' and computer == 'rock'):\n        print(\"You win! Paper covers rock\")\n    elif (you == 'paper' and computer == 'scissors'):\n        print(\"You lose! Scissors cuts paper\")\n    else:\n        print(\"It's a tie!\")    \nelse: \n    print(\"You didn't enter 'rock', 'paper' or 'scissors'!!!\")",
      "execution_count": 12,
      "outputs": [
        {
          "output_type": "stream",
          "text": "You chose paper and the computer chose scissors\nYou lose! Scissors cuts paper\n",
          "name": "stdout"
        }
      ]
    },
    {
      "metadata": {},
      "cell_type": "markdown",
      "source": "## The final program\n\nWith the 'rock' and 'paper' cases out of the way, we only need to add 'scissors' logic. We leave part to you as your final exercise. \n\nSimilat to the 'paper' example you will need to add two `elif` statements to handle winning and losing when you select 'paper' and should also include the appropriate output messages.\n\n"
    },
    {
      "metadata": {
        "trusted": true
      },
      "cell_type": "code",
      "source": "# 1. computer opponent select one of \"rock\", \"paper\" or \"scissors\" at random\nimport random\nchoices = ['rock','paper','scissors']\ncomputer = random.choice(choices)\n\n# 2. you input one of \"rock\", \"paper\" or \"scissors\"\n# for now, make this 'rock'\nyou = input(\"Enter your choice: rock, paper, or scissors: \")\nif (you in choices):  \n    print(\"You chose %s and the computer chose %s\" % (you,computer))\n\n    # 3. play the game and determine a winnner \n    if (you == 'rock' and computer == 'scissors'):\n        print(\"You win! Rock smashes scissors.\")\n    elif (you == 'rock' and computer=='paper'):\n        print(\"You lose! Paper covers rock.\")\n    elif (you == 'paper' and computer =='rock'):\n        print(\"You win! Paper covers rock\")\n    elif (you == 'paper' and computer == 'scissors'):\n        print(\"You lose! Scissors cuts paper\")\n    elif (you == 'scissors' and computer == 'rock'):\n        print(\"You lose! Rock smashes scissors\")\n    elif (you == 'scissors' and computer == 'paper'):\n        print(\"You win! Scissors cuts paper\")\n    # TODO add logic for you == 'scissors' similar to the paper logic\n    \n    else:\n        print(\"It's a tie!\")    \nelse: \n    print(\"You didn't enter 'rock', 'paper' or 'scissors'!!!\")",
      "execution_count": null,
      "outputs": []
    },
    {
      "metadata": {
        "trusted": true
      },
      "cell_type": "code",
      "source": "",
      "execution_count": null,
      "outputs": []
    }
  ],
  "metadata": {
    "anaconda-cloud": {},
    "kernelspec": {
      "name": "python3",
      "display_name": "Python 3",
      "language": "python"
    },
    "language_info": {
      "mimetype": "text/x-python",
      "nbconvert_exporter": "python",
      "name": "python",
      "pygments_lexer": "ipython3",
      "version": "3.5.4",
      "file_extension": ".py",
      "codemirror_mode": {
        "version": 3,
        "name": "ipython"
      }
    }
  },
  "nbformat": 4,
  "nbformat_minor": 1
}