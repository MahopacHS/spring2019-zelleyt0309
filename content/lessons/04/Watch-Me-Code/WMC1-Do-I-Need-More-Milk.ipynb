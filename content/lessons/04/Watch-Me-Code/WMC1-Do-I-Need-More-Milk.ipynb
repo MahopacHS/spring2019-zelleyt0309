{
  "cells": [
    {
      "metadata": {},
      "cell_type": "markdown",
      "source": "# Watch Me Code 1: Do I need more milk?\nMy family requires a gallon of milk at all times!"
    },
    {
      "metadata": {
        "trusted": false
      },
      "cell_type": "code",
      "source": "milk = float(input(\"How many gallons of milk do you have? \"))\nif milk < 1:\n    print(\"Buy more milk!\")\nelse:\n    print(\"You're good for now!\")",
      "execution_count": 5,
      "outputs": [
        {
          "name": "stdout",
          "output_type": "stream",
          "text": "How many gallons of milk do you have? 0.75\nBuy more milk!\n"
        }
      ]
    },
    {
      "metadata": {
        "collapsed": true
      },
      "cell_type": "markdown",
      "source": "## Another example. \nI only go to the store when I need both diapers and beer!"
    },
    {
      "metadata": {
        "trusted": false
      },
      "cell_type": "code",
      "source": "diapers = input(\"do you need diapers? \")\nbeer = input(\"do you need beer? \")\nif diapers == 'yes' and beer=='yes':\n    print(\"You'd better get to the store, ASAP!\")\nelse:\n    print(\"No need to go to the store yet!\")",
      "execution_count": 2,
      "outputs": [
        {
          "name": "stdout",
          "output_type": "stream",
          "text": "do you need diapers? yes\ndo you need beer? yes\nYou'd better get to the store, ASAP!\n"
        }
      ]
    },
    {
      "metadata": {
        "collapsed": true,
        "trusted": false
      },
      "cell_type": "code",
      "source": "",
      "execution_count": null,
      "outputs": []
    }
  ],
  "metadata": {
    "anaconda-cloud": {},
    "kernelspec": {
      "name": "python3",
      "display_name": "Python 3",
      "language": "python"
    },
    "language_info": {
      "mimetype": "text/x-python",
      "nbconvert_exporter": "python",
      "name": "python",
      "pygments_lexer": "ipython3",
      "version": "3.5.4",
      "file_extension": ".py",
      "codemirror_mode": {
        "version": 3,
        "name": "ipython"
      }
    }
  },
  "nbformat": 4,
  "nbformat_minor": 1
}