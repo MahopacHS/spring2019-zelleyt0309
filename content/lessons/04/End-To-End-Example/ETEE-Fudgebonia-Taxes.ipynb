{
  "cells": [
    {
      "metadata": {},
      "cell_type": "markdown",
      "source": "# End-To-End-Example: Fudgebonia Taxes\n\nThe country of “Fudgebonia” determines your tax rate from the number of dependents:\n\n- 0 is 30%\n- 1 is 25% \n- 2 is 18% \n- 3 or more is 10%  \n\nWrite a program to prompt for number of dependents (0-3) and annual income.\n\nIt should then calculate your tax rate and tax bill. Format numbers properly! Handle bad input!\n"
    },
    {
      "metadata": {
        "collapsed": true,
        "trusted": false
      },
      "cell_type": "code",
      "source": "## TODO list\n\n# 1. input dependents\n# 2. input annual income\n# 3. if dependents equals 0 then \n# 3.1   rate is 30%\n# 4. else if dependents equals 1 then\n# 4.1   rate is 25%\n# 5. else if dependents equlas 2 then \n# 5.1   rate is 18%\n# 6. else\n# 6.1   rate is 10%\n# 7. print tax rate\n# 8. bill = rate times income\n# 8. print tax bill\n",
      "execution_count": 1,
      "outputs": []
    },
    {
      "metadata": {
        "trusted": false
      },
      "cell_type": "code",
      "source": "print(\"Fudgebonia tax calculator\")\ndependents = int(input(\"Enter number of dependents:\"))\nincome = float(input(\"Enter annual income: \"))\nif dependents == 0:\n    rate = .3\nelif dependents == 1:\n    rate = .25\nelif dependents == 2:\n    rate = .18\nelse:\n    rate = .10\nprint(\"Tax rate %.2f %%\" % (rate))\nbill = rate * income\nprint(\"Tax Bill $%.2f\" %(bill))",
      "execution_count": 2,
      "outputs": [
        {
          "name": "stdout",
          "output_type": "stream",
          "text": "Fudgebonia tax calculator\nEnter number of dependents:2\nEnter annual income: 50000\nTax rate 0.18 %\nTax Bill $9000.00\n"
        }
      ]
    },
    {
      "metadata": {
        "trusted": false
      },
      "cell_type": "code",
      "source": "## Re-write to handle bad input. this should always be a re-write and never attempt in one try.\nprint(\"Fudgebonia tax calculator\")\ntry:\n    dependents = int(input(\"Enter number of dependents:\"))\n    income = float(input(\"Enter annual income: \"))\n    if dependents == 0:\n        rate = .3\n    elif dependents == 1:\n        rate = .25\n    elif dependents == 2:\n        rate = .18\n    else:\n        rate = .10\n    print(\"Tax rate %.2f %%\" % (rate))\n    bill = rate * income\n    print(\"Tax Bill $%.2f\" %(bill))\nexcept:\n    print(\"You entered a bad value... quitting.\")",
      "execution_count": 4,
      "outputs": [
        {
          "name": "stdout",
          "output_type": "stream",
          "text": "Fudgebonia tax calculator\nEnter number of dependents:fsdg\nYou entered a bad value... quitting.\n"
        }
      ]
    },
    {
      "metadata": {
        "collapsed": true,
        "trusted": false
      },
      "cell_type": "code",
      "source": "## Re-write to handle dependents < 0\ntry:\n    dependents = int(input(\"Enter number of dependents: \"))\n    income = float(input(\"Enter your annual income: \"))\n    if dependents >=0:\n        if dependents == 0:\n            rate = .3\n        elif dependents == 1:\n            rate = .25\n        elif dependents == 2:\n            rate = .18\n        else: # >=3...\n            rate = .10\n        print(\"Tax rate %.2f %%\" % (rate))\n        bill = rate * income\n        print(\"Tax Bill $%.2f\" %(bill))\n    else: # dependents < 0 \n        print(\"Invalid number of dependents.\")\nexcept ValueError:\n    print(\"Invalid input. Program quitting.\")\n",
      "execution_count": null,
      "outputs": []
    }
  ],
  "metadata": {
    "anaconda-cloud": {},
    "kernelspec": {
      "name": "python3",
      "display_name": "Python 3",
      "language": "python"
    },
    "language_info": {
      "mimetype": "text/x-python",
      "nbconvert_exporter": "python",
      "name": "python",
      "file_extension": ".py",
      "version": "3.5.4",
      "pygments_lexer": "ipython3",
      "codemirror_mode": {
        "version": 3,
        "name": "ipython"
      }
    }
  },
  "nbformat": 4,
  "nbformat_minor": 1
}