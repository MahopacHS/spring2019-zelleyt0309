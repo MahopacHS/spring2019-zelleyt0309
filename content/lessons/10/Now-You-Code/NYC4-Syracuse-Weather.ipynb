{
  "cells": [
    {
      "metadata": {},
      "cell_type": "markdown",
      "source": "# Now You Code 4: Syracuse Weather\n\nWrite a program to load the Syracuse weather data from Dec 2015 in\nJSON format into a Python list of dictionary. \n\nThe file with the weather data is in your `Now-You-Code` folder: `\"NYC4-syr-weather-dec-2015.json\"`\n\nYou should load this data into a Python list of dictionary using the `json` package. \n\nAfter you load this data, loop over the list of weather items and record whether or not the `'Mean TemperatureF'` is above or below freezing. \n\nSort this information into a separate Python dictionary, called `stats` so you can print it out like this:\n```\n{'below-freezing': 4, 'above-freezing': 27}\n```\n\n"
    },
    {
      "metadata": {
        "collapsed": true
      },
      "cell_type": "markdown",
      "source": "## Step 1: Problem Analysis `input_address` function\n\nThis function should get input from the user at run time and return the input address.\n\nInputs: None (gets input from user)\n\nOutputs: a Python dictionary of address info (street, city, state, postal_code)\n\nAlgorithm (Steps in Program):\n"
    },
    {
      "metadata": {
        "trusted": false
      },
      "cell_type": "code",
      "source": "# Step 2: Write code\nimport json\n    temp[]\nfilename = \"NYC4-syr-dec-2015.json\"\nwith (open filename, 'r') as weather:\n    line = weather.readlines\n    if 'Mean TemperatureF:' in line:\n        x= \n    temp.append(temp{})",
      "execution_count": null,
      "outputs": []
    },
    {
      "metadata": {},
      "cell_type": "markdown",
      "source": "## Step 3: Questions\n\n1. What are the advantages to storing the number of days above freezing and below freezing in a Python dictionary?\n2. What is the data type of the weather data as it is read from the file `NYC4-syr-weather-dec-2015.json` ?\n3. Could this same program work for weather at other times in other cities? What conditions would need to be met for this to happen?"
    },
    {
      "metadata": {},
      "cell_type": "markdown",
      "source": "## Reminder of Evaluation Criteria\n\n1. What the problem attempted (analysis, code, and answered questions) ?\n2. What the problem analysis thought out? (does the program match the plan?)\n3. Does the code execute without syntax error?\n4. Does the code solve the intended problem?\n5. Is the code well written? (easy to understand, modular, and self-documenting, handles errors)\n"
    }
  ],
  "metadata": {
    "anaconda-cloud": {},
    "kernelspec": {
      "name": "python3",
      "display_name": "Python 3",
      "language": "python"
    },
    "language_info": {
      "mimetype": "text/x-python",
      "nbconvert_exporter": "python",
      "name": "python",
      "file_extension": ".py",
      "version": "3.5.4",
      "pygments_lexer": "ipython3",
      "codemirror_mode": {
        "version": 3,
        "name": "ipython"
      }
    }
  },
  "nbformat": 4,
  "nbformat_minor": 1
}