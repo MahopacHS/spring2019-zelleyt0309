{
  "cells": [
    {
      "metadata": {},
      "cell_type": "markdown",
      "source": "# End-To-End Example: Today's Weather\n\nThis example will input a location and then output today's current weather conditions at that location. \n\nTo complete this example we will use the following API's \n\n- OpenStreetMaps Geocode api to get GPS coordinates for a location eg. Syracuse, NY\n- Darksky.net forecast api to get the currnt weather conditions for those GPS coordinates\n"
    },
    {
      "metadata": {
        "trusted": false
      },
      "cell_type": "code",
      "source": "# Todo list\n# input a location eg. Syracuse, ny\n# use the google geocode api to get a lat/lng\n# use the darksky api and lat/lng to get current weather conditions\n# output current weather conditions (temperature and summary (rain, snow, etc...))\n",
      "execution_count": 29,
      "outputs": []
    },
    {
      "metadata": {
        "trusted": true
      },
      "cell_type": "code",
      "source": "import requests",
      "execution_count": 1,
      "outputs": []
    },
    {
      "metadata": {
        "trusted": true
      },
      "cell_type": "code",
      "source": "def geocode(location):\n    params = {'q' : location, 'format': 'json'}\n    url='https://nominatim.openstreetmap.org/search' \n    response = requests.get(url, params = params)\n    if response.ok:\n        geodata = response.json()\n        return geodata\n    else:\n        print(\"Error calling api!!!\")\n        print(response.text)\n        \n# Testing with syracuse, NY \n# geocode('Syracuse, NY')",
      "execution_count": 2,
      "outputs": []
    },
    {
      "metadata": {
        "trusted": true
      },
      "cell_type": "code",
      "source": "def darksky_weather(coords):\n    key = '3428d875996cccbf7b713a175d3fd7a5' # sign up for your own key at https://darksky.net/dev \n    url='https://api.darksky.net/forecast/%s/%f,%f' % (key, coords['lat'], coords['lng'])\n    #print(url)\n    response = requests.get(url)\n    weather = response.json()\n    return weather\n\n# Testing with syracuse, NY coordinates\n# darksky_weather( {'lat' : 43.0481221, 'lng' : -76.1474244})",
      "execution_count": 3,
      "outputs": []
    },
    {
      "metadata": {
        "trusted": true
      },
      "cell_type": "code",
      "source": "# then test them here to figue out how to extract from the dictionary\ngeodata = geocode('Syracuse, NY')\ncoords = { 'lat' : float(geodata[0]['lat']), 'lng' : float(geodata[0]['lon']) }\ncoords\nweather = darksky_weather(coords)\nweather['currently']['temperature']\n    ",
      "execution_count": 4,
      "outputs": [
        {
          "output_type": "execute_result",
          "execution_count": 4,
          "data": {
            "text/plain": "39.26"
          },
          "metadata": {}
        }
      ]
    },
    {
      "metadata": {
        "trusted": true
      },
      "cell_type": "code",
      "source": "import requests\n# Now I can write the entire program...\nlocation = input(\"Where are you? (eg. Syracuse, NY) : \")\ngeodata = geocode(location)\ncoords = { 'lat' : float(geodata[0]['lat']), 'lng' : float(geodata[0]['lon']) }\nweather = darksky_weather(coords)\ncurrent = weather['currently']\nprint(\"Current conditions in %s are %s with a temperature of %.0f degrees.\" % \n      (location, current['summary'], current['temperature']))\n",
      "execution_count": 7,
      "outputs": [
        {
          "output_type": "stream",
          "name": "stdout",
          "text": "Where are you? (eg. Syracuse, NY) : Rensselaer, NY\nCurrent conditions in Rensselaer, NY are Partly Cloudy with a temperature of 40 degrees.\n"
        }
      ]
    },
    {
      "metadata": {
        "trusted": true
      },
      "cell_type": "code",
      "source": "",
      "execution_count": null,
      "outputs": []
    },
    {
      "metadata": {
        "trusted": true
      },
      "cell_type": "code",
      "source": "",
      "execution_count": null,
      "outputs": []
    }
  ],
  "metadata": {
    "anaconda-cloud": {},
    "kernelspec": {
      "name": "python3",
      "display_name": "Python 3",
      "language": "python"
    },
    "language_info": {
      "mimetype": "text/x-python",
      "nbconvert_exporter": "python",
      "name": "python",
      "file_extension": ".py",
      "version": "3.5.4",
      "pygments_lexer": "ipython3",
      "codemirror_mode": {
        "version": 3,
        "name": "ipython"
      }
    }
  },
  "nbformat": 4,
  "nbformat_minor": 1
}