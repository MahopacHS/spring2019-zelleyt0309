{
  "cells": [
    {
      "metadata": {},
      "cell_type": "markdown",
      "source": "## Now You Code 1: Simple Plotting\n\nIn this first now you code, you will execute some simple plotting in matplotlib and plot.ly\n\nIn most cases you will be writing 1-2 lines of code. you will spend the majority of time looking through the documentation here:\n\n- http://pandas.pydata.org/pandas-docs/stable/generated/pandas.DataFrame.plot.html \n- https://plot.ly/pandas/\n\nAlso try interactive help: `help(eye_df.plot)` for pandas and `help(eye_df.iplot)`  for plot.ly"
    },
    {
      "metadata": {
        "trusted": true
      },
      "cell_type": "code",
      "source": "!pip install cufflinks",
      "execution_count": 1,
      "outputs": [
        {
          "output_type": "stream",
          "text": "Collecting cufflinks\n\u001b[?25l  Downloading https://files.pythonhosted.org/packages/dd/c9/c6f3675387438929af73e1199c45a623205898bafeab5ccd713efe3b43c2/cufflinks-0.15.tar.gz (81kB)\n\u001b[K     |████████████████████████████████| 81kB 2.9MB/s eta 0:00:011\n\u001b[?25hRequirement already satisfied: numpy>=1.9.2 in /home/nbuser/anaconda3_420/lib/python3.5/site-packages (from cufflinks) (1.16.3)\nRequirement already satisfied: pandas>=0.19.2 in /home/nbuser/anaconda3_420/lib/python3.5/site-packages (from cufflinks) (0.19.2)\nRequirement already satisfied: plotly>=3.0.0 in /home/nbuser/anaconda3_420/lib/python3.5/site-packages (from cufflinks) (3.8.1)\nRequirement already satisfied: six>=1.9.0 in /home/nbuser/anaconda3_420/lib/python3.5/site-packages (from cufflinks) (1.11.0)\nCollecting colorlover>=0.2.1 (from cufflinks)\n  Downloading https://files.pythonhosted.org/packages/9a/53/f696e4480b1d1de3b1523991dea71cf417c8b19fe70c704da164f3f90972/colorlover-0.3.0-py3-none-any.whl\nRequirement already satisfied: setuptools>=34.4.1 in /home/nbuser/anaconda3_420/lib/python3.5/site-packages (from cufflinks) (41.0.1)\nRequirement already satisfied: ipython>=5.3.0 in /home/nbuser/anaconda3_420/lib/python3.5/site-packages (from cufflinks) (6.2.1)\nRequirement already satisfied: ipywidgets>=7.0.0 in /home/nbuser/anaconda3_420/lib/python3.5/site-packages (from cufflinks) (7.2.1)\nRequirement already satisfied: python-dateutil>=2 in /home/nbuser/anaconda3_420/lib/python3.5/site-packages (from pandas>=0.19.2->cufflinks) (2.7.5)\nRequirement already satisfied: pytz>=2011k in /home/nbuser/anaconda3_420/lib/python3.5/site-packages (from pandas>=0.19.2->cufflinks) (2016.6.1)\nRequirement already satisfied: nbformat>=4.2 in /home/nbuser/anaconda3_420/lib/python3.5/site-packages (from plotly>=3.0.0->cufflinks) (4.2.0)\nRequirement already satisfied: decorator>=4.0.6 in /home/nbuser/anaconda3_420/lib/python3.5/site-packages (from plotly>=3.0.0->cufflinks) (4.0.10)\nRequirement already satisfied: requests in /home/nbuser/anaconda3_420/lib/python3.5/site-packages (from plotly>=3.0.0->cufflinks) (2.14.2)\nRequirement already satisfied: retrying>=1.3.3 in /home/nbuser/anaconda3_420/lib/python3.5/site-packages (from plotly>=3.0.0->cufflinks) (1.3.3)\nRequirement already satisfied: jedi>=0.10 in /home/nbuser/anaconda3_420/lib/python3.5/site-packages (from ipython>=5.3.0->cufflinks) (0.11.0)\nRequirement already satisfied: pickleshare in /home/nbuser/anaconda3_420/lib/python3.5/site-packages (from ipython>=5.3.0->cufflinks) (0.7.4)\nRequirement already satisfied: simplegeneric>0.8 in /home/nbuser/anaconda3_420/lib/python3.5/site-packages (from ipython>=5.3.0->cufflinks) (0.8.1)\nRequirement already satisfied: traitlets>=4.2 in /home/nbuser/anaconda3_420/lib/python3.5/site-packages (from ipython>=5.3.0->cufflinks) (4.3.1)\nRequirement already satisfied: prompt_toolkit<2.0.0,>=1.0.4 in /home/nbuser/anaconda3_420/lib/python3.5/site-packages (from ipython>=5.3.0->cufflinks) (1.0.15)\nRequirement already satisfied: pygments in /home/nbuser/anaconda3_420/lib/python3.5/site-packages (from ipython>=5.3.0->cufflinks) (2.1.3)\nRequirement already satisfied: pexpect in /home/nbuser/anaconda3_420/lib/python3.5/site-packages (from ipython>=5.3.0->cufflinks) (4.0.1)\nRequirement already satisfied: ipykernel>=4.5.1 in /home/nbuser/anaconda3_420/lib/python3.5/site-packages (from ipywidgets>=7.0.0->cufflinks) (4.7.0)\nRequirement already satisfied: widgetsnbextension~=3.2.0 in /home/nbuser/anaconda3_420/lib/python3.5/site-packages (from ipywidgets>=7.0.0->cufflinks) (3.2.0)\nRequirement already satisfied: parso==0.1.* in /home/nbuser/anaconda3_420/lib/python3.5/site-packages (from jedi>=0.10->ipython>=5.3.0->cufflinks) (0.1.1)\nRequirement already satisfied: wcwidth in /home/nbuser/anaconda3_420/lib/python3.5/site-packages (from prompt_toolkit<2.0.0,>=1.0.4->ipython>=5.3.0->cufflinks) (0.1.7)\nRequirement already satisfied: jupyter_client in /home/nbuser/anaconda3_420/lib/python3.5/site-packages (from ipykernel>=4.5.1->ipywidgets>=7.0.0->cufflinks) (5.1.0)\nRequirement already satisfied: tornado>=4.0 in /home/nbuser/anaconda3_420/lib/python3.5/site-packages (from ipykernel>=4.5.1->ipywidgets>=7.0.0->cufflinks) (4.4.1)\nRequirement already satisfied: notebook>=4.4.1 in /home/nbuser/anaconda3_420/lib/python3.5/site-packages (from widgetsnbextension~=3.2.0->ipywidgets>=7.0.0->cufflinks) (5.0.0)\nRequirement already satisfied: jupyter_core in /home/nbuser/anaconda3_420/lib/python3.5/site-packages (from jupyter_client->ipykernel>=4.5.1->ipywidgets>=7.0.0->cufflinks) (4.4.0)\nRequirement already satisfied: pyzmq>=13 in /home/nbuser/anaconda3_420/lib/python3.5/site-packages (from jupyter_client->ipykernel>=4.5.1->ipywidgets>=7.0.0->cufflinks) (15.4.0)\nBuilding wheels for collected packages: cufflinks\n  Building wheel for cufflinks (setup.py) ... \u001b[?25ldone\n\u001b[?25h  Stored in directory: /home/nbuser/.cache/pip/wheels/c7/7f/d3/7d3146a1551614bf0b8eb631ac724d044dd341679e763b594b\nSuccessfully built cufflinks\nInstalling collected packages: colorlover, cufflinks\nSuccessfully installed colorlover-0.3.0 cufflinks-0.15\n\u001b[33mWARNING: You are using pip version 19.1, however version 19.1.1 is available.\nYou should consider upgrading via the 'pip install --upgrade pip' command.\u001b[0m\n",
          "name": "stdout"
        }
      ]
    },
    {
      "metadata": {
        "trusted": true
      },
      "cell_type": "code",
      "source": "!pip install folium",
      "execution_count": 2,
      "outputs": [
        {
          "output_type": "stream",
          "text": "Collecting folium\n\u001b[?25l  Downloading https://files.pythonhosted.org/packages/4f/86/1ab30184cb60bc2b95deffe2bd86b8ddbab65a4fac9f7313c278c6e8d049/folium-0.9.1-py2.py3-none-any.whl (91kB)\n\u001b[K     |████████████████████████████████| 92kB 4.4MB/s eta 0:00:01\n\u001b[?25hCollecting jinja2>=2.9 (from folium)\n  Using cached https://files.pythonhosted.org/packages/1d/e7/fd8b501e7a6dfe492a433deb7b9d833d39ca74916fa8bc63dd1a4947a671/Jinja2-2.10.1-py2.py3-none-any.whl\nRequirement already satisfied: numpy in /home/nbuser/anaconda3_420/lib/python3.5/site-packages (from folium) (1.16.3)\nRequirement already satisfied: requests in /home/nbuser/anaconda3_420/lib/python3.5/site-packages (from folium) (2.14.2)\nCollecting branca>=0.3.0 (from folium)\n  Downloading https://files.pythonhosted.org/packages/63/36/1c93318e9653f4e414a2e0c3b98fc898b4970e939afeedeee6075dd3b703/branca-0.3.1-py3-none-any.whl\nRequirement already satisfied: MarkupSafe>=0.23 in /home/nbuser/anaconda3_420/lib/python3.5/site-packages (from jinja2>=2.9->folium) (0.23)\nRequirement already satisfied: six in /home/nbuser/anaconda3_420/lib/python3.5/site-packages (from branca>=0.3.0->folium) (1.11.0)\nInstalling collected packages: jinja2, branca, folium\n  Found existing installation: Jinja2 2.8\n    Uninstalling Jinja2-2.8:\n      Successfully uninstalled Jinja2-2.8\nSuccessfully installed branca-0.3.1 folium-0.9.1 jinja2-2.10.1\n\u001b[33mWARNING: You are using pip version 19.1, however version 19.1.1 is available.\nYou should consider upgrading via the 'pip install --upgrade pip' command.\u001b[0m\n",
          "name": "stdout"
        }
      ]
    },
    {
      "metadata": {
        "trusted": true
      },
      "cell_type": "code",
      "source": "import pandas as pd\nimport plotly as py\nimport matplotlib as plt\nimport cufflinks as cf\n%matplotlib inline",
      "execution_count": null,
      "outputs": []
    },
    {
      "metadata": {
        "trusted": true
      },
      "cell_type": "code",
      "source": "# setup the credentials\n# Sign up for a FREE plot.ly account and get your API credentials. https://plot.ly/settings/api\n\npy.tools.set_credentials_file(username='txzelley', api_key='wSent9LyiKZECcIjzyKS')",
      "execution_count": null,
      "outputs": []
    },
    {
      "metadata": {
        "trusted": true
      },
      "cell_type": "code",
      "source": "eye_data = [ {'Eye Color' : 'Blue', 'Count' : 190 }, {'Eye Color' : 'Brown', 'Count' : 245 },\n            {'Eye Color' : 'Green', 'Count' : 64 }, {'Eye Color' : 'Hazel', 'Count' : 93 } ]\neye_df = pd.DataFrame(eye_data)\neye_df",
      "execution_count": 9,
      "outputs": [
        {
          "output_type": "execute_result",
          "execution_count": 9,
          "data": {
            "text/plain": "   Count Eye Color\n0    190      Blue\n1    245     Brown\n2     64     Green\n3     93     Hazel",
            "text/html": "<div>\n<table border=\"1\" class=\"dataframe\">\n  <thead>\n    <tr style=\"text-align: right;\">\n      <th></th>\n      <th>Count</th>\n      <th>Eye Color</th>\n    </tr>\n  </thead>\n  <tbody>\n    <tr>\n      <th>0</th>\n      <td>190</td>\n      <td>Blue</td>\n    </tr>\n    <tr>\n      <th>1</th>\n      <td>245</td>\n      <td>Brown</td>\n    </tr>\n    <tr>\n      <th>2</th>\n      <td>64</td>\n      <td>Green</td>\n    </tr>\n    <tr>\n      <th>3</th>\n      <td>93</td>\n      <td>Hazel</td>\n    </tr>\n  </tbody>\n</table>\n</div>"
          },
          "metadata": {}
        }
      ]
    },
    {
      "metadata": {
        "trusted": true
      },
      "cell_type": "code",
      "source": "hair_df =  pd.DataFrame( {'Hair Color' :pd.Series( ['Black', 'Blond', 'Brown', 'Red'], name='Hair Color'), \n                           'Count' : pd.Series( [108, 125, 286, 73], name = 'Count')} )\nhair_df ",
      "execution_count": 10,
      "outputs": [
        {
          "output_type": "execute_result",
          "execution_count": 10,
          "data": {
            "text/plain": "   Count Hair Color\n0    108      Black\n1    125      Blond\n2    286      Brown\n3     73        Red",
            "text/html": "<div>\n<table border=\"1\" class=\"dataframe\">\n  <thead>\n    <tr style=\"text-align: right;\">\n      <th></th>\n      <th>Count</th>\n      <th>Hair Color</th>\n    </tr>\n  </thead>\n  <tbody>\n    <tr>\n      <th>0</th>\n      <td>108</td>\n      <td>Black</td>\n    </tr>\n    <tr>\n      <th>1</th>\n      <td>125</td>\n      <td>Blond</td>\n    </tr>\n    <tr>\n      <th>2</th>\n      <td>286</td>\n      <td>Brown</td>\n    </tr>\n    <tr>\n      <th>3</th>\n      <td>73</td>\n      <td>Red</td>\n    </tr>\n  </tbody>\n</table>\n</div>"
          },
          "metadata": {}
        }
      ]
    },
    {
      "metadata": {
        "trusted": true
      },
      "cell_type": "code",
      "source": "# plot a vertical bar chart of hair colors using pandas / matplotlib\n# Hair color names on the X axis, and chart title of \"Counts of Hair Colors\"\n\nhair_df.plot(kind='bar',x='Hair Color',y='Count',title='How Tommy likes the ladies')",
      "execution_count": 11,
      "outputs": [
        {
          "output_type": "execute_result",
          "execution_count": 11,
          "data": {
            "text/plain": "<matplotlib.axes._subplots.AxesSubplot at 0x7fd513277eb8>"
          },
          "metadata": {}
        },
        {
          "output_type": "display_data",
          "data": {
            "image/png": "[encoded data removed]",
            "text/plain": "<matplotlib.figure.Figure at 0x7fd513277048>"
          },
          "metadata": {}
        }
      ]
    },
    {
      "metadata": {
        "trusted": true,
        "scrolled": false
      },
      "cell_type": "code",
      "source": "# plot the EXACT same thing using plotly / cufflinks\nhair_df.iplot(kind='bar',x='Hair Color',y='Count')",
      "execution_count": 13,
      "outputs": [
        {
          "output_type": "stream",
          "text": "High five! You successfully sent some data to your account on plotly. View your plot in your browser at https://plot.ly/~txzelley/0 or inside your plot.ly account where it is named 'Plotly Playground 2019-05-30 11:30:37'\n",
          "name": "stdout"
        },
        {
          "output_type": "execute_result",
          "execution_count": 13,
          "data": {
            "text/plain": "<chart_studio.tools.PlotlyDisplay object>",
            "text/html": "<iframe id=\"igraph\" scrolling=\"no\" style=\"border:none;\" seamless=\"seamless\" src=\"https://plot.ly/~txzelley/0.embed\" height=\"525px\" width=\"100%\"></iframe>"
          },
          "metadata": {}
        }
      ]
    },
    {
      "metadata": {
        "trusted": true
      },
      "cell_type": "code",
      "source": "# next, plot a pie chart of EYE COLORS using pandas / matplotlib\n# make sure to set the labels on the pie to 'Blue', 'Brown' etc...\neye_df.plot(kind='pie',x='Eye Color',y='Count',title='Fake color list')",
      "execution_count": 19,
      "outputs": [
        {
          "output_type": "execute_result",
          "execution_count": 19,
          "data": {
            "text/plain": "<matplotlib.axes._subplots.AxesSubplot at 0x7fd512a91cc0>"
          },
          "metadata": {}
        },
        {
          "output_type": "display_data",
          "data": {
            "image/png": "[encoded data removed]",
            "text/plain": "<matplotlib.figure.Figure at 0x7fd512a91588>"
          },
          "metadata": {}
        }
      ]
    },
    {
      "metadata": {
        "trusted": true
      },
      "cell_type": "code",
      "source": "# plot the same pie chart with plot.ly \neye_df.iplot(kind='pie',x='Eye Color',y='Count')\n#just not feeling fixing this",
      "execution_count": 25,
      "outputs": [
        {
          "output_type": "error",
          "ename": "CufflinksError",
          "evalue": "Missing: labels",
          "traceback": [
            "\u001b[0;31m---------------------------------------------------------------------------\u001b[0m",
            "\u001b[0;31mCufflinksError\u001b[0m                            Traceback (most recent call last)",
            "\u001b[0;32m<ipython-input-25-544cf4956c1a>\u001b[0m in \u001b[0;36m<module>\u001b[0;34m()\u001b[0m\n\u001b[1;32m      1\u001b[0m \u001b[0;31m# plot the same pie chart with plot.ly\u001b[0m\u001b[0;34m\u001b[0m\u001b[0;34m\u001b[0m\u001b[0m\n\u001b[0;32m----> 2\u001b[0;31m \u001b[0meye_df\u001b[0m\u001b[0;34m.\u001b[0m\u001b[0miplot\u001b[0m\u001b[0;34m(\u001b[0m\u001b[0mkind\u001b[0m\u001b[0;34m=\u001b[0m\u001b[0;34m'pie'\u001b[0m\u001b[0;34m,\u001b[0m\u001b[0mx\u001b[0m\u001b[0;34m=\u001b[0m\u001b[0;34m'Eye Color'\u001b[0m\u001b[0;34m,\u001b[0m\u001b[0my\u001b[0m\u001b[0;34m=\u001b[0m\u001b[0;34m'Count'\u001b[0m\u001b[0;34m)\u001b[0m\u001b[0;34m\u001b[0m\u001b[0m\n\u001b[0m",
            "\u001b[0;32m~/anaconda3_420/lib/python3.5/site-packages/cufflinks/plotlytools.py\u001b[0m in \u001b[0;36m_iplot\u001b[0;34m(self, kind, data, layout, filename, sharing, title, xTitle, yTitle, zTitle, theme, colors, colorscale, fill, width, dash, mode, interpolation, symbol, size, barmode, sortbars, bargap, bargroupgap, bins, histnorm, histfunc, orientation, boxpoints, annotations, keys, bestfit, bestfit_colors, mean, mean_colors, categories, x, y, z, text, gridcolor, zerolinecolor, margin, labels, values, secondary_y, secondary_y_title, subplots, shape, error_x, error_y, error_type, locations, lon, lat, asFrame, asDates, asFigure, asImage, dimensions, asPlot, asUrl, online, **kwargs)\u001b[0m\n\u001b[1;32m   1002\u001b[0m                         \u001b[0;32melif\u001b[0m \u001b[0mkind\u001b[0m\u001b[0;34m==\u001b[0m\u001b[0;34m'pie'\u001b[0m\u001b[0;34m:\u001b[0m\u001b[0;34m\u001b[0m\u001b[0m\n\u001b[1;32m   1003\u001b[0m                                 \u001b[0;32mif\u001b[0m \u001b[0;32mnot\u001b[0m \u001b[0mlabels\u001b[0m\u001b[0;34m:\u001b[0m\u001b[0;34m\u001b[0m\u001b[0m\n\u001b[0;32m-> 1004\u001b[0;31m                                         \u001b[0;32mraise\u001b[0m \u001b[0mCufflinksError\u001b[0m\u001b[0;34m(\u001b[0m\u001b[0;34m'Missing: labels'\u001b[0m\u001b[0;34m)\u001b[0m\u001b[0;34m\u001b[0m\u001b[0m\n\u001b[0m\u001b[1;32m   1005\u001b[0m                                 \u001b[0;32mif\u001b[0m \u001b[0;32mnot\u001b[0m \u001b[0mvalues\u001b[0m\u001b[0;34m:\u001b[0m\u001b[0;34m\u001b[0m\u001b[0m\n\u001b[1;32m   1006\u001b[0m                                         \u001b[0;32mraise\u001b[0m \u001b[0mCufflinksError\u001b[0m\u001b[0;34m(\u001b[0m\u001b[0;34m'Missing: values'\u001b[0m\u001b[0;34m)\u001b[0m\u001b[0;34m\u001b[0m\u001b[0m\n",
            "\u001b[0;31mCufflinksError\u001b[0m: Missing: labels"
          ]
        }
      ]
    },
    {
      "metadata": {
        "trusted": true
      },
      "cell_type": "code",
      "source": "# In this last step you will plot a scatter plot with both pandas and plotly / cufflinks\n#let's get the data:\ncars = pd.read_csv('https://raw.githubusercontent.com/mafudge/datasets/master/cars/weight-vs-mpg.csv')\ncars.sample(5)",
      "execution_count": 26,
      "outputs": [
        {
          "output_type": "execute_result",
          "execution_count": 26,
          "data": {
            "text/plain": "    Weight   MPG\n20   2.585  26.5\n24   2.670  27.4\n35   2.815  22.0\n17   3.725  17.6\n23   1.915  35.1",
            "text/html": "<div>\n<table border=\"1\" class=\"dataframe\">\n  <thead>\n    <tr style=\"text-align: right;\">\n      <th></th>\n      <th>Weight</th>\n      <th>MPG</th>\n    </tr>\n  </thead>\n  <tbody>\n    <tr>\n      <th>20</th>\n      <td>2.585</td>\n      <td>26.5</td>\n    </tr>\n    <tr>\n      <th>24</th>\n      <td>2.670</td>\n      <td>27.4</td>\n    </tr>\n    <tr>\n      <th>35</th>\n      <td>2.815</td>\n      <td>22.0</td>\n    </tr>\n    <tr>\n      <th>17</th>\n      <td>3.725</td>\n      <td>17.6</td>\n    </tr>\n    <tr>\n      <th>23</th>\n      <td>1.915</td>\n      <td>35.1</td>\n    </tr>\n  </tbody>\n</table>\n</div>"
          },
          "metadata": {}
        }
      ]
    },
    {
      "metadata": {
        "trusted": true
      },
      "cell_type": "code",
      "source": "# plot use pandas / matplotlib to plot a scatter of weight vs mpg for cars\ncars.plot(kind='scatter',x='Weight',y='MPG',title='Weight vs MPG')",
      "execution_count": 29,
      "outputs": [
        {
          "output_type": "execute_result",
          "execution_count": 29,
          "data": {
            "text/plain": "<matplotlib.axes._subplots.AxesSubplot at 0x7fd512bdcd30>"
          },
          "metadata": {}
        },
        {
          "output_type": "display_data",
          "data": {
            "image/png": "[encoded data removed]",
            "text/plain": "<matplotlib.figure.Figure at 0x7fd512a70ba8>"
          },
          "metadata": {}
        }
      ]
    },
    {
      "metadata": {
        "trusted": true
      },
      "cell_type": "code",
      "source": "# Use cufflinks to plot a scatter here.\ncars.iplot(kind='scatter',x='Weight',y='MPG',title='Weight vs MPG')",
      "execution_count": 30,
      "outputs": [
        {
          "output_type": "execute_result",
          "execution_count": 30,
          "data": {
            "text/plain": "<chart_studio.tools.PlotlyDisplay object>",
            "text/html": "<iframe id=\"igraph\" scrolling=\"no\" style=\"border:none;\" seamless=\"seamless\" src=\"https://plot.ly/~txzelley/2.embed\" height=\"525px\" width=\"100%\"></iframe>"
          },
          "metadata": {}
        }
      ]
    },
    {
      "metadata": {
        "trusted": true
      },
      "cell_type": "code",
      "source": "",
      "execution_count": null,
      "outputs": []
    },
    {
      "metadata": {},
      "cell_type": "markdown",
      "source": "## Reminder of Evaluation Criteria\n\n1. What the problem attempted (analysis, code, and answered questions) ?\n2. What the problem analysis thought out? (does the program match the plan?)\n3. Does the code execute without syntax error?\n4. Does the code solve the intended problem?\n5. Is the code well written? (easy to understand, modular, and self-documenting, handles errors)"
    }
  ],
  "metadata": {
    "anaconda-cloud": {},
    "kernelspec": {
      "name": "python3",
      "display_name": "Python 3",
      "language": "python"
    },
    "language_info": {
      "mimetype": "text/x-python",
      "nbconvert_exporter": "python",
      "name": "python",
      "file_extension": ".py",
      "version": "3.5.4",
      "pygments_lexer": "ipython3",
      "codemirror_mode": {
        "version": 3,
        "name": "ipython"
      }
    }
  },
  "nbformat": 4,
  "nbformat_minor": 1
}