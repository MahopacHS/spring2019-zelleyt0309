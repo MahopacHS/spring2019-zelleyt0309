{
  "cells": [
    {
      "metadata": {},
      "cell_type": "markdown",
      "source": "## Now You Code 2: Syracuse Crime Data\n\nIn this second now you code you will explore the plot.ly engine in detail using Syracuse, NY FBI crime data."
    },
    {
      "metadata": {
        "trusted": true
      },
      "cell_type": "code",
      "source": "!pip install cufflinks",
      "execution_count": 1,
      "outputs": [
        {
          "output_type": "stream",
          "text": "Requirement already satisfied: cufflinks in /home/nbuser/anaconda3_420/lib/python3.5/site-packages (0.15)\nRequirement already satisfied: plotly>=3.0.0 in /home/nbuser/anaconda3_420/lib/python3.5/site-packages (from cufflinks) (3.8.1)\nRequirement already satisfied: pandas>=0.19.2 in /home/nbuser/anaconda3_420/lib/python3.5/site-packages (from cufflinks) (0.19.2)\nRequirement already satisfied: six>=1.9.0 in /home/nbuser/anaconda3_420/lib/python3.5/site-packages (from cufflinks) (1.11.0)\nRequirement already satisfied: colorlover>=0.2.1 in /home/nbuser/anaconda3_420/lib/python3.5/site-packages (from cufflinks) (0.3.0)\nRequirement already satisfied: numpy>=1.9.2 in /home/nbuser/anaconda3_420/lib/python3.5/site-packages (from cufflinks) (1.16.3)\nRequirement already satisfied: setuptools>=34.4.1 in /home/nbuser/anaconda3_420/lib/python3.5/site-packages (from cufflinks) (41.0.1)\nRequirement already satisfied: ipython>=5.3.0 in /home/nbuser/anaconda3_420/lib/python3.5/site-packages (from cufflinks) (6.2.1)\nRequirement already satisfied: ipywidgets>=7.0.0 in /home/nbuser/anaconda3_420/lib/python3.5/site-packages (from cufflinks) (7.2.1)\nRequirement already satisfied: decorator>=4.0.6 in /home/nbuser/anaconda3_420/lib/python3.5/site-packages (from plotly>=3.0.0->cufflinks) (4.0.10)\nRequirement already satisfied: retrying>=1.3.3 in /home/nbuser/anaconda3_420/lib/python3.5/site-packages (from plotly>=3.0.0->cufflinks) (1.3.3)\nRequirement already satisfied: pytz in /home/nbuser/anaconda3_420/lib/python3.5/site-packages (from plotly>=3.0.0->cufflinks) (2016.6.1)\nRequirement already satisfied: nbformat>=4.2 in /home/nbuser/anaconda3_420/lib/python3.5/site-packages (from plotly>=3.0.0->cufflinks) (4.2.0)\nRequirement already satisfied: requests in /home/nbuser/anaconda3_420/lib/python3.5/site-packages (from plotly>=3.0.0->cufflinks) (2.14.2)\nRequirement already satisfied: python-dateutil>=2 in /home/nbuser/anaconda3_420/lib/python3.5/site-packages (from pandas>=0.19.2->cufflinks) (2.7.5)\nRequirement already satisfied: jedi>=0.10 in /home/nbuser/anaconda3_420/lib/python3.5/site-packages (from ipython>=5.3.0->cufflinks) (0.11.0)\nRequirement already satisfied: pickleshare in /home/nbuser/anaconda3_420/lib/python3.5/site-packages (from ipython>=5.3.0->cufflinks) (0.7.4)\nRequirement already satisfied: simplegeneric>0.8 in /home/nbuser/anaconda3_420/lib/python3.5/site-packages (from ipython>=5.3.0->cufflinks) (0.8.1)\nRequirement already satisfied: traitlets>=4.2 in /home/nbuser/anaconda3_420/lib/python3.5/site-packages (from ipython>=5.3.0->cufflinks) (4.3.1)\nRequirement already satisfied: prompt_toolkit<2.0.0,>=1.0.4 in /home/nbuser/anaconda3_420/lib/python3.5/site-packages (from ipython>=5.3.0->cufflinks) (1.0.15)\nRequirement already satisfied: pygments in /home/nbuser/anaconda3_420/lib/python3.5/site-packages (from ipython>=5.3.0->cufflinks) (2.1.3)\nRequirement already satisfied: pexpect in /home/nbuser/anaconda3_420/lib/python3.5/site-packages (from ipython>=5.3.0->cufflinks) (4.0.1)\nRequirement already satisfied: ipykernel>=4.5.1 in /home/nbuser/anaconda3_420/lib/python3.5/site-packages (from ipywidgets>=7.0.0->cufflinks) (4.7.0)\nRequirement already satisfied: widgetsnbextension~=3.2.0 in /home/nbuser/anaconda3_420/lib/python3.5/site-packages (from ipywidgets>=7.0.0->cufflinks) (3.2.0)\nRequirement already satisfied: parso==0.1.* in /home/nbuser/anaconda3_420/lib/python3.5/site-packages (from jedi>=0.10->ipython>=5.3.0->cufflinks) (0.1.1)\nRequirement already satisfied: wcwidth in /home/nbuser/anaconda3_420/lib/python3.5/site-packages (from prompt_toolkit<2.0.0,>=1.0.4->ipython>=5.3.0->cufflinks) (0.1.7)\nRequirement already satisfied: jupyter_client in /home/nbuser/anaconda3_420/lib/python3.5/site-packages (from ipykernel>=4.5.1->ipywidgets>=7.0.0->cufflinks) (5.1.0)\nRequirement already satisfied: tornado>=4.0 in /home/nbuser/anaconda3_420/lib/python3.5/site-packages (from ipykernel>=4.5.1->ipywidgets>=7.0.0->cufflinks) (4.4.1)\nRequirement already satisfied: notebook>=4.4.1 in /home/nbuser/anaconda3_420/lib/python3.5/site-packages (from widgetsnbextension~=3.2.0->ipywidgets>=7.0.0->cufflinks) (5.0.0)\nRequirement already satisfied: jupyter_core in /home/nbuser/anaconda3_420/lib/python3.5/site-packages (from jupyter_client->ipykernel>=4.5.1->ipywidgets>=7.0.0->cufflinks) (4.4.0)\nRequirement already satisfied: pyzmq>=13 in /home/nbuser/anaconda3_420/lib/python3.5/site-packages (from jupyter_client->ipykernel>=4.5.1->ipywidgets>=7.0.0->cufflinks) (15.4.0)\n\u001b[33mWARNING: You are using pip version 19.1, however version 19.1.1 is available.\nYou should consider upgrading via the 'pip install --upgrade pip' command.\u001b[0m\n",
          "name": "stdout"
        }
      ]
    },
    {
      "metadata": {
        "trusted": true
      },
      "cell_type": "code",
      "source": "!pip install folium",
      "execution_count": 2,
      "outputs": [
        {
          "output_type": "stream",
          "text": "Requirement already satisfied: folium in /home/nbuser/anaconda3_420/lib/python3.5/site-packages (0.9.1)\nRequirement already satisfied: branca>=0.3.0 in /home/nbuser/anaconda3_420/lib/python3.5/site-packages (from folium) (0.3.1)\nRequirement already satisfied: numpy in /home/nbuser/anaconda3_420/lib/python3.5/site-packages (from folium) (1.16.3)\nRequirement already satisfied: jinja2>=2.9 in /home/nbuser/anaconda3_420/lib/python3.5/site-packages (from folium) (2.10.1)\nRequirement already satisfied: requests in /home/nbuser/anaconda3_420/lib/python3.5/site-packages (from folium) (2.14.2)\nRequirement already satisfied: six in /home/nbuser/anaconda3_420/lib/python3.5/site-packages (from branca>=0.3.0->folium) (1.11.0)\nRequirement already satisfied: MarkupSafe>=0.23 in /home/nbuser/anaconda3_420/lib/python3.5/site-packages (from jinja2>=2.9->folium) (0.23)\n\u001b[33mWARNING: You are using pip version 19.1, however version 19.1.1 is available.\nYou should consider upgrading via the 'pip install --upgrade pip' command.\u001b[0m\n",
          "name": "stdout"
        }
      ]
    },
    {
      "metadata": {
        "trusted": true
      },
      "cell_type": "code",
      "source": "import plotly.plotly as py    \nimport plotly.graph_objs as go  \nimport cufflinks as cf\nimport pandas as pd",
      "execution_count": 3,
      "outputs": []
    },
    {
      "metadata": {
        "trusted": true
      },
      "cell_type": "code",
      "source": "crime = pd.read_csv('https://raw.githubusercontent.com/mafudge/datasets/master/crime/syracuse-crime-data-1985-2012.csv')\ncrime.sample(10)",
      "execution_count": 4,
      "outputs": [
        {
          "output_type": "execute_result",
          "execution_count": 4,
          "data": {
            "text/plain": "    Year  Months  Population  Violent crime total  \\\n6   1991      12      164474                 1559   \n4   1989      12      154960                 1360   \n27  2012      12      145934                 1372   \n26  2011      12      145822                 1302   \n0   1985      12      164659                 1013   \n22  2007      12      139880                 1435   \n24  2009      12      137208                 1343   \n13  1998      12      154911                 1423   \n15  2000      12      147306                 1565   \n20  2005      12      143306                 1570   \n\n    Murder and nonnegligent Manslaughter  Forcible rape  Robbery  \\\n6                                     13             86      608   \n4                                     13            113      488   \n27                                    14             75      454   \n26                                    11             63      388   \n0                                     12             80      551   \n22                                    19             67      446   \n24                                    18             70      403   \n13                                    12             49      465   \n15                                    18             47      452   \n20                                    19             73      554   \n\n    Aggravated assault  Property crime total  Burglary     ...       \\\n6                  852                 11148      3328     ...        \n4                  746                 10290      3502     ...        \n27                 829                  5976      1896     ...        \n26                 840                  5275      1705     ...        \n0                  370                 11037      3741     ...        \n22                 903                  5964      1785     ...        \n24                 852                  5779      1946     ...        \n13                 897                  8526      2194     ...        \n15                1048                  7565      1846     ...        \n20                 924                  6486      1867     ...        \n\n    Violent Crime rate  Murder and nonnegligent manslaughter rate  \\\n6                947.9                                        7.9   \n4                877.6                                        8.4   \n27               940.2                                        9.6   \n26               892.9                                        7.5   \n0                615.2                                        7.3   \n22              1025.9                                       13.6   \n24               978.8                                       13.1   \n13               918.6                                        7.7   \n15              1062.4                                       12.2   \n20              1095.6                                       13.3   \n\n    Forcible rape rate  Robbery rate  Aggravated assault rate  \\\n6                 52.3         369.7                    518.0   \n4                 72.9         314.9                    481.4   \n27                51.4         311.1                    568.1   \n26                43.2         266.1                    576.0   \n0                 48.6         334.6                    224.7   \n22                47.9         318.8                    645.6   \n24                51.0         293.7                    621.0   \n13                31.6         300.2                    579.0   \n15                31.9         306.8                    711.4   \n20                50.9         386.6                    644.8   \n\n    Property crime rate  Burglary rate  Larceny-theft rate  \\\n6                6778.0         2023.4              4321.7   \n4                6640.4         2259.9              4016.5   \n27               4095.0         1299.2              2534.0   \n26               3617.4         1169.2              2236.3   \n0                6702.9         2272.0              4172.3   \n22               4263.7         1276.1              2586.5   \n24               4211.9         1418.3              2547.2   \n13               5503.8         1416.3              3665.3   \n15               5135.6         1253.2              3354.2   \n20               4526.0         1302.8              2539.3   \n\n    Motor vehicle theft rate  Unnamed: 21  \n6                      432.9          NaN  \n4                      364.0          NaN  \n27                     261.8          NaN  \n26                     211.9          NaN  \n0                      258.7          NaN  \n22                     401.1          NaN  \n24                     246.3          NaN  \n13                     422.2          NaN  \n15                     528.2          NaN  \n20                     683.9          NaN  \n\n[10 rows x 22 columns]",
            "text/html": "<div>\n<table border=\"1\" class=\"dataframe\">\n  <thead>\n    <tr style=\"text-align: right;\">\n      <th></th>\n      <th>Year</th>\n      <th>Months</th>\n      <th>Population</th>\n      <th>Violent crime total</th>\n      <th>Murder and nonnegligent Manslaughter</th>\n      <th>Forcible rape</th>\n      <th>Robbery</th>\n      <th>Aggravated assault</th>\n      <th>Property crime total</th>\n      <th>Burglary</th>\n      <th>...</th>\n      <th>Violent Crime rate</th>\n      <th>Murder and nonnegligent manslaughter rate</th>\n      <th>Forcible rape rate</th>\n      <th>Robbery rate</th>\n      <th>Aggravated assault rate</th>\n      <th>Property crime rate</th>\n      <th>Burglary rate</th>\n      <th>Larceny-theft rate</th>\n      <th>Motor vehicle theft rate</th>\n      <th>Unnamed: 21</th>\n    </tr>\n  </thead>\n  <tbody>\n    <tr>\n      <th>6</th>\n      <td>1991</td>\n      <td>12</td>\n      <td>164474</td>\n      <td>1559</td>\n      <td>13</td>\n      <td>86</td>\n      <td>608</td>\n      <td>852</td>\n      <td>11148</td>\n      <td>3328</td>\n      <td>...</td>\n      <td>947.9</td>\n      <td>7.9</td>\n      <td>52.3</td>\n      <td>369.7</td>\n      <td>518.0</td>\n      <td>6778.0</td>\n      <td>2023.4</td>\n      <td>4321.7</td>\n      <td>432.9</td>\n      <td>NaN</td>\n    </tr>\n    <tr>\n      <th>4</th>\n      <td>1989</td>\n      <td>12</td>\n      <td>154960</td>\n      <td>1360</td>\n      <td>13</td>\n      <td>113</td>\n      <td>488</td>\n      <td>746</td>\n      <td>10290</td>\n      <td>3502</td>\n      <td>...</td>\n      <td>877.6</td>\n      <td>8.4</td>\n      <td>72.9</td>\n      <td>314.9</td>\n      <td>481.4</td>\n      <td>6640.4</td>\n      <td>2259.9</td>\n      <td>4016.5</td>\n      <td>364.0</td>\n      <td>NaN</td>\n    </tr>\n    <tr>\n      <th>27</th>\n      <td>2012</td>\n      <td>12</td>\n      <td>145934</td>\n      <td>1372</td>\n      <td>14</td>\n      <td>75</td>\n      <td>454</td>\n      <td>829</td>\n      <td>5976</td>\n      <td>1896</td>\n      <td>...</td>\n      <td>940.2</td>\n      <td>9.6</td>\n      <td>51.4</td>\n      <td>311.1</td>\n      <td>568.1</td>\n      <td>4095.0</td>\n      <td>1299.2</td>\n      <td>2534.0</td>\n      <td>261.8</td>\n      <td>NaN</td>\n    </tr>\n    <tr>\n      <th>26</th>\n      <td>2011</td>\n      <td>12</td>\n      <td>145822</td>\n      <td>1302</td>\n      <td>11</td>\n      <td>63</td>\n      <td>388</td>\n      <td>840</td>\n      <td>5275</td>\n      <td>1705</td>\n      <td>...</td>\n      <td>892.9</td>\n      <td>7.5</td>\n      <td>43.2</td>\n      <td>266.1</td>\n      <td>576.0</td>\n      <td>3617.4</td>\n      <td>1169.2</td>\n      <td>2236.3</td>\n      <td>211.9</td>\n      <td>NaN</td>\n    </tr>\n    <tr>\n      <th>0</th>\n      <td>1985</td>\n      <td>12</td>\n      <td>164659</td>\n      <td>1013</td>\n      <td>12</td>\n      <td>80</td>\n      <td>551</td>\n      <td>370</td>\n      <td>11037</td>\n      <td>3741</td>\n      <td>...</td>\n      <td>615.2</td>\n      <td>7.3</td>\n      <td>48.6</td>\n      <td>334.6</td>\n      <td>224.7</td>\n      <td>6702.9</td>\n      <td>2272.0</td>\n      <td>4172.3</td>\n      <td>258.7</td>\n      <td>NaN</td>\n    </tr>\n    <tr>\n      <th>22</th>\n      <td>2007</td>\n      <td>12</td>\n      <td>139880</td>\n      <td>1435</td>\n      <td>19</td>\n      <td>67</td>\n      <td>446</td>\n      <td>903</td>\n      <td>5964</td>\n      <td>1785</td>\n      <td>...</td>\n      <td>1025.9</td>\n      <td>13.6</td>\n      <td>47.9</td>\n      <td>318.8</td>\n      <td>645.6</td>\n      <td>4263.7</td>\n      <td>1276.1</td>\n      <td>2586.5</td>\n      <td>401.1</td>\n      <td>NaN</td>\n    </tr>\n    <tr>\n      <th>24</th>\n      <td>2009</td>\n      <td>12</td>\n      <td>137208</td>\n      <td>1343</td>\n      <td>18</td>\n      <td>70</td>\n      <td>403</td>\n      <td>852</td>\n      <td>5779</td>\n      <td>1946</td>\n      <td>...</td>\n      <td>978.8</td>\n      <td>13.1</td>\n      <td>51.0</td>\n      <td>293.7</td>\n      <td>621.0</td>\n      <td>4211.9</td>\n      <td>1418.3</td>\n      <td>2547.2</td>\n      <td>246.3</td>\n      <td>NaN</td>\n    </tr>\n    <tr>\n      <th>13</th>\n      <td>1998</td>\n      <td>12</td>\n      <td>154911</td>\n      <td>1423</td>\n      <td>12</td>\n      <td>49</td>\n      <td>465</td>\n      <td>897</td>\n      <td>8526</td>\n      <td>2194</td>\n      <td>...</td>\n      <td>918.6</td>\n      <td>7.7</td>\n      <td>31.6</td>\n      <td>300.2</td>\n      <td>579.0</td>\n      <td>5503.8</td>\n      <td>1416.3</td>\n      <td>3665.3</td>\n      <td>422.2</td>\n      <td>NaN</td>\n    </tr>\n    <tr>\n      <th>15</th>\n      <td>2000</td>\n      <td>12</td>\n      <td>147306</td>\n      <td>1565</td>\n      <td>18</td>\n      <td>47</td>\n      <td>452</td>\n      <td>1048</td>\n      <td>7565</td>\n      <td>1846</td>\n      <td>...</td>\n      <td>1062.4</td>\n      <td>12.2</td>\n      <td>31.9</td>\n      <td>306.8</td>\n      <td>711.4</td>\n      <td>5135.6</td>\n      <td>1253.2</td>\n      <td>3354.2</td>\n      <td>528.2</td>\n      <td>NaN</td>\n    </tr>\n    <tr>\n      <th>20</th>\n      <td>2005</td>\n      <td>12</td>\n      <td>143306</td>\n      <td>1570</td>\n      <td>19</td>\n      <td>73</td>\n      <td>554</td>\n      <td>924</td>\n      <td>6486</td>\n      <td>1867</td>\n      <td>...</td>\n      <td>1095.6</td>\n      <td>13.3</td>\n      <td>50.9</td>\n      <td>386.6</td>\n      <td>644.8</td>\n      <td>4526.0</td>\n      <td>1302.8</td>\n      <td>2539.3</td>\n      <td>683.9</td>\n      <td>NaN</td>\n    </tr>\n  </tbody>\n</table>\n<p>10 rows × 22 columns</p>\n</div>"
          },
          "metadata": {}
        }
      ]
    },
    {
      "metadata": {
        "trusted": true
      },
      "cell_type": "code",
      "source": "# Make a line plot of population over the years, using cufflinks crime.iplot()\n# set the titles on x \"Year, Y \"Population\" and cart title \" Syracuse Population\" \n# TODO: replace the ???? with appropriate values to render the chart\ncrime.iplot(kind = 'scatter', x = 'Year', y = 'Population', title='Syracuse Population',xTitle='Year',yTitle='Population')",
      "execution_count": 5,
      "outputs": [
        {
          "output_type": "execute_result",
          "execution_count": 5,
          "data": {
            "text/plain": "<chart_studio.tools.PlotlyDisplay object>",
            "text/html": "<iframe id=\"igraph\" scrolling=\"no\" style=\"border:none;\" seamless=\"seamless\" src=\"https://plot.ly/~txzelley/4.embed\" height=\"525px\" width=\"100%\"></iframe>"
          },
          "metadata": {}
        }
      ]
    },
    {
      "metadata": {
        "trusted": true
      },
      "cell_type": "code",
      "source": "# Step 1:\n# Now plot the same thing using plot.ly without cufflinks, again filling in the templates. Using plot.ly takes more effort but\n# you have more control / flexibility over how the plots are rendered.\nplot_data = [\n    go.Scatter(x=crime['Year'], y=crime['Population'], mode=\"lines+markers\", name=\"Syracuse Population\", marker=dict(color='red')),\n]\n\npy.iplot({ 'data': plot_data,\n            'layout': {\n               'title': 'Syracuse Population',\n               'xaxis': {\n                 'title': 'Year'},\n               'yaxis': {\n                'title': 'Population'}\n        }})",
      "execution_count": 6,
      "outputs": [
        {
          "output_type": "execute_result",
          "execution_count": 6,
          "data": {
            "text/plain": "<chart_studio.tools.PlotlyDisplay object>",
            "text/html": "<iframe id=\"igraph\" scrolling=\"no\" style=\"border:none;\" seamless=\"seamless\" src=\"https://plot.ly/~txzelley/6.embed\" height=\"525px\" width=\"100%\"></iframe>"
          },
          "metadata": {}
        }
      ]
    },
    {
      "metadata": {
        "trusted": true
      },
      "cell_type": "code",
      "source": "# Step 2:\n# Now create a line plot of \"Robbery rate\" versus \"Motor vehicle theft rate\" over time.\n# NOTE: you will need two series in your plot_data \n\n\nplot_data = [\n    go.Scatter(x=crime['Year'], y=crime['Motor vehicle theft rate'], y=crime['Robbery rate'], mode=\"lines+markers\", name=\"Syracuse Population\", marker=dict(color='red')),\n]\n\npy.iplot({ 'data': plot_data,\n            'layout': {\n               'title': 'Syracuse Population',\n               'xaxis': {\n                 'title': 'Years'},\n               'yaxis': {\n                'title': 'Crimes'}\n        }})",
      "execution_count": 14,
      "outputs": [
        {
          "output_type": "error",
          "ename": "SyntaxError",
          "evalue": "keyword argument repeated (<ipython-input-14-e26963113352>, line 7)",
          "traceback": [
            "\u001b[0;36m  File \u001b[0;32m\"<ipython-input-14-e26963113352>\"\u001b[0;36m, line \u001b[0;32m7\u001b[0m\n\u001b[0;31m    go.Scatter(x=crime['Year'], y=crime['Motor vehicle theft rate'], y=crime['Robbery rate'], mode=\"lines+markers\", name=\"Syracuse Population\", marker=dict(color='red')),\u001b[0m\n\u001b[0m                                                                    ^\u001b[0m\n\u001b[0;31mSyntaxError\u001b[0m\u001b[0;31m:\u001b[0m keyword argument repeated\n"
          ]
        }
      ]
    },
    {
      "metadata": {},
      "cell_type": "markdown",
      "source": "# Interactive Plots\n\nFinally write a program to ask for a crime metric like \"Robbery\" / \"Burglary\" / \"Manslaughter\" etc as input, \nthen renders a plot of that metric over time as output !\n\nNote: check to make sure the entered crime metric is in the list of Pandas columns before you attempt to plot. \nIt might be a good idea to print the column names before you plot.\nif it is not you should print \"That is not a crime metric\"\n\n"
    },
    {
      "metadata": {},
      "cell_type": "markdown",
      "source": "## Step 3: Problem Analysis\n\nInputs:\n\nOutputs:\n\nAlgorithm (Steps in Program):\n"
    },
    {
      "metadata": {
        "trusted": false
      },
      "cell_type": "code",
      "source": "## Step 4: Write code here\n\n",
      "execution_count": null,
      "outputs": []
    },
    {
      "metadata": {},
      "cell_type": "markdown",
      "source": "## Reminder of Evaluation Criteria\n\n1. What the problem attempted (analysis, code, and answered questions) ?\n2. What the problem analysis thought out? (does the program match the plan?)\n3. Does the code execute without syntax error?\n4. Does the code solve the intended problem?\n5. Is the code well written? (easy to understand, modular, and self-documenting, handles errors)\n"
    },
    {
      "metadata": {
        "collapsed": true,
        "trusted": false
      },
      "cell_type": "code",
      "source": "",
      "execution_count": null,
      "outputs": []
    }
  ],
  "metadata": {
    "anaconda-cloud": {},
    "kernelspec": {
      "name": "python3",
      "display_name": "Python 3",
      "language": "python"
    },
    "language_info": {
      "mimetype": "text/x-python",
      "nbconvert_exporter": "python",
      "name": "python",
      "pygments_lexer": "ipython3",
      "version": "3.5.4",
      "file_extension": ".py",
      "codemirror_mode": {
        "version": 3,
        "name": "ipython"
      }
    }
  },
  "nbformat": 4,
  "nbformat_minor": 1
}