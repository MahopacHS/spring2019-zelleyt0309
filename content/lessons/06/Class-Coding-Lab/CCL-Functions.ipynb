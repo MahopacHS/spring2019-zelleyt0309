{
  "cells": [
    {
      "metadata": {},
      "cell_type": "markdown",
      "source": "# In-Class Coding Lab: Functions\n\nThe goals of this lab are to help you to understand:\n\n- How to use Python's built-in functions in the standard library.\n- How to write user-defined functions\n- The benefits of user-defined functions to code reuse and simplicity.\n- How to create a program to use functions to solve a complex idea\n\nWe will demonstrate these through the following example:\n\n\n## The Credit Card Problem\n\nIf you're going to do commerce on the web, you're going to support credit cards. But how do you know if a given number is valid? And how do you know which network issued the card?\n\n**Example:** Is `5300023581452982` a valid credit card number?Is it? Visa? MasterCard, Discover? or American Express?\n\nWhile eventually the card number is validated when you attempt to post a transaction, there's a lot of reasons why you might want to know its valid before the transaction takes place. The most common being just trying to catch an honest key-entry mistake made by your site visitor.\n\nSo there are two things we'd like to figure out, for any \"potential\" card number:\n\n- Who is the issuing network? Visa, MasterCard, Discover or American Express.\n- In the number potentially valid (as opposed to a made up series of digits)?\n\n### What does the have to do with functions?\n\nIf we get this code to work, it seems like it might be useful to re-use it in several other programs we may write in the future. We can do this by writing the code as a **function**. Think of a function as an independent program its own inputs and output. The program is defined under a name so that we can use it simply by calling its name. \n\n**Example:** `n = int(\"50\")` the function `int()` takes the string `\"50\"` as input and converts it to an `int` value `50` which is then stored in the value `n`.\n\nWhen you create these credit card functions, we might want to re-use them by placing them in a **Module** which is a file with a collection of functions in it. Furthermore we can take a group of related modules and place them together in a Python **Package**. You install packages on your computer with the `pip` command. \n"
    },
    {
      "metadata": {
        "collapsed": true
      },
      "cell_type": "markdown",
      "source": "## Built-In Functions\n\nLet's start by checking out the built-in functions in Python's math library. We use the `dir()` function to list the names of the math library:\n"
    },
    {
      "metadata": {
        "trusted": true
      },
      "cell_type": "code",
      "source": "import math\n\ndir(math)",
      "execution_count": 1,
      "outputs": [
        {
          "output_type": "execute_result",
          "execution_count": 1,
          "data": {
            "text/plain": "['__doc__',\n '__file__',\n '__loader__',\n '__name__',\n '__package__',\n '__spec__',\n 'acos',\n 'acosh',\n 'asin',\n 'asinh',\n 'atan',\n 'atan2',\n 'atanh',\n 'ceil',\n 'copysign',\n 'cos',\n 'cosh',\n 'degrees',\n 'e',\n 'erf',\n 'erfc',\n 'exp',\n 'expm1',\n 'fabs',\n 'factorial',\n 'floor',\n 'fmod',\n 'frexp',\n 'fsum',\n 'gamma',\n 'gcd',\n 'hypot',\n 'inf',\n 'isclose',\n 'isfinite',\n 'isinf',\n 'isnan',\n 'ldexp',\n 'lgamma',\n 'log',\n 'log10',\n 'log1p',\n 'log2',\n 'modf',\n 'nan',\n 'pi',\n 'pow',\n 'radians',\n 'sin',\n 'sinh',\n 'sqrt',\n 'tan',\n 'tanh',\n 'trunc']"
          },
          "metadata": {}
        }
      ]
    },
    {
      "metadata": {},
      "cell_type": "markdown",
      "source": "If you look through the output, you'll see a `factorial` name. Let's see if it's a function we can use:"
    },
    {
      "metadata": {
        "trusted": true
      },
      "cell_type": "code",
      "source": "help(math.factorial)",
      "execution_count": 2,
      "outputs": [
        {
          "output_type": "stream",
          "text": "Help on built-in function factorial in module math:\n\nfactorial(...)\n    factorial(x) -> Integral\n    \n    Find x!. Raise a ValueError if x is negative or non-integral.\n\n",
          "name": "stdout"
        }
      ]
    },
    {
      "metadata": {},
      "cell_type": "markdown",
      "source": "It says it's a built-in function, and requies an integer value (which it referrs to as x, but that value is arbitrary) as an argument. Let's call the function and see if it works:"
    },
    {
      "metadata": {
        "trusted": true
      },
      "cell_type": "code",
      "source": "math.factorial(5) #this is an example of \"calling\" the function with input 5. The output should be 120",
      "execution_count": 3,
      "outputs": [
        {
          "output_type": "execute_result",
          "execution_count": 3,
          "data": {
            "text/plain": "120"
          },
          "metadata": {}
        }
      ]
    },
    {
      "metadata": {
        "trusted": true
      },
      "cell_type": "code",
      "source": "math.factorial(0) # here we call the same function with input 0. The output should be 1.",
      "execution_count": 4,
      "outputs": [
        {
          "output_type": "execute_result",
          "execution_count": 4,
          "data": {
            "text/plain": "1"
          },
          "metadata": {}
        }
      ]
    },
    {
      "metadata": {
        "trusted": true
      },
      "cell_type": "code",
      "source": "## Call the factorial function with an input argument of 4. What is the output?\n#TODO write code here.\nmath.factorial(4)",
      "execution_count": 5,
      "outputs": [
        {
          "output_type": "execute_result",
          "execution_count": 5,
          "data": {
            "text/plain": "24"
          },
          "metadata": {}
        }
      ]
    },
    {
      "metadata": {
        "collapsed": true
      },
      "cell_type": "markdown",
      "source": "## Using functions to print things awesome in Juypter\n\nUp until this point we've used the boring `print()` function for our output. Let's do better. In the `IPython.display` module there are two functions `display()` and `HTML()`. The `display()` function outputs a Python object to the Jupyter notebook. The `HTML()` function creates a Python object from [HTML Markup](https://www.w3schools.com/html/html_intro.asp) as a string.\n\nFor example this prints Hello in Heading 1.\n"
    },
    {
      "metadata": {
        "trusted": true
      },
      "cell_type": "code",
      "source": "from IPython.display import display, HTML\n\nprint(\"Exciting:\")\ndisplay(HTML(\"<h1>Hello</h1>\"))\nprint(\"Boring:\")\nprint(\"Hello\")\n",
      "execution_count": 12,
      "outputs": [
        {
          "output_type": "stream",
          "text": "Exciting:\n",
          "name": "stdout"
        },
        {
          "output_type": "display_data",
          "data": {
            "text/plain": "<IPython.core.display.HTML object>",
            "text/html": "<h1>Hello</h1>"
          },
          "metadata": {}
        },
        {
          "output_type": "stream",
          "text": "Boring:\nHello\n",
          "name": "stdout"
        }
      ]
    },
    {
      "metadata": {},
      "cell_type": "markdown",
      "source": "Let's keep the example going by writing two of our own functions to print a title and print text as normal, respectively. \n\nExecute this code:"
    },
    {
      "metadata": {
        "trusted": true
      },
      "cell_type": "code",
      "source": "def print_title(text):\n    '''\n    This prints text to IPython.display as H1\n    '''\n    return display(HTML(\"<H1>\" + text + \"</H1>\"))\n\ndef print_normal(text):\n    '''\n    this prints text to IPython.display as normal text\n    '''\n    return display(HTML(text))\n",
      "execution_count": 13,
      "outputs": []
    },
    {
      "metadata": {},
      "cell_type": "markdown",
      "source": "Now let's use these two functions in a familiar program! "
    },
    {
      "metadata": {
        "trusted": true
      },
      "cell_type": "code",
      "source": "print_title(\"Area of a Rectangle\")\nlength = float(input(\"Enter length: \"))\nwidth = float(input(\"Enter width: \"))\narea = length * width\nprint_normal(\"The area is %.2f\" % area)\n",
      "execution_count": 14,
      "outputs": [
        {
          "output_type": "display_data",
          "data": {
            "text/plain": "<IPython.core.display.HTML object>",
            "text/html": "<H1>Area of a Rectangle</H1>"
          },
          "metadata": {}
        },
        {
          "output_type": "stream",
          "name": "stdout",
          "text": "Enter length: 5\nEnter width: 6\n"
        },
        {
          "output_type": "display_data",
          "data": {
            "text/plain": "<IPython.core.display.HTML object>",
            "text/html": "The area is 30.00"
          },
          "metadata": {}
        }
      ]
    },
    {
      "metadata": {},
      "cell_type": "markdown",
      "source": "## Let's get back to credit cards....\n\nNow that we know how a bit about **Packages**, **Modules**, and **Functions** let's attempt to write our first function. Let's tackle the easier of our two credit card related problems:\n\n- Who is the issuing network? Visa, MasterCard, Discover or American Express.\n\nThis problem can be solved by looking at the first digit of the card number:\n\n - \"4\" ==> \"Visa\"\n - \"5\" ==> \"MasterCard\"\n - \"6\" ==> \"Discover\"\n - \"3\" ==> \"American Express\"\n \nSo for card number `5300023581452982` the issuer is \"MasterCard\".\n\nIt should be easy to write a program to solve this problem. Here's the algorithm:\n\n```\ninput credit card number into variable card\nget the first digit of the card number (eg. digit = card[0])\nif digit equals \"4\"\n    the card issuer \"Visa\"\nelif digit equals \"5\"\n    the card issuer \"MasterCard\"\nelif digit equals \"6\"\n    the card issuer is \"Discover\"\nelif digit equals \"3\"\n    the card issues is \"American Express\"\nelse\n    the issuer is \"Invalid\"    \nprint issuer\n```\n\n### Now You Try It\n\nTurn the algorithm into python code"
    },
    {
      "metadata": {
        "trusted": true
      },
      "cell_type": "code",
      "source": "## TODO: Write your code here\ncard = input(\"What is your credit card number? \") \ndigit = card[0]\nif digit == \"4\":\n    issuer = \"Visa\"\nelif digit == \"5\":\n    issuer = \"MasterCard\"\nelif digit == \"6\":\n    issuer = \"Discover\"\nelif digit == \"3\":\n    issues = \"American Express\"\nelse:\n    print(\"Invalid card number\")    \nprint(issuer)\n",
      "execution_count": 14,
      "outputs": [
        {
          "output_type": "stream",
          "name": "stdout",
          "text": "What is your credit card number? 50009\nMasterCard\n"
        }
      ]
    },
    {
      "metadata": {},
      "cell_type": "markdown",
      "source": "**IMPORTANT** Make sure to test your code by running it 5 times. You should test issuer and also the \"Invalid Card\" case.\n\n## Introducing the Write - Refactor - Test - Rewrite approach\n\nIt would be nice to re-write this code to use a function. This can seem daunting / confusing for beginner programmers, which is why we teach the **Write - Refactor - Test - Rewrite** approach. In this approach you write the ENTIRE PROGRAM and then REWRITE IT to use functions. Yes, it's inefficient, but until you get comfotable thinking \"functions first\" its the best way to modularize your code with functions. Here's the approach:\n\n1. Write the code\n2. Refactor (change the code around) to use a function\n3. Test the function by calling it\n4. Rewrite the original code to use the new function.\n\n\nWe already did step 1: Write so let's move on to:\n\n### Step 2: refactor\n\nLet's strip the logic out of the above code to accomplish the task of the function:\n\n- Send into the function as input a credit card number as a `str`\n- Return back from the function as output the issuer of the card as a `str`\n\nTo help you out we've written the function stub for you all you need to do is write the function body code."
    },
    {
      "metadata": {
        "trusted": true
      },
      "cell_type": "code",
      "source": "'''This function takes a card number (card) as input, and returns the issuer name as output'''\n## TODO write code here they should be the same as lines 3-13 from the code above\ndef CardIssuer(card):\n    \n    digit = card[0]\n    if digit == \"4\":\n        issuer = \"Visa\"\n    elif digit == \"5\":\n        issuer = \"MasterCard\"\n    elif digit == \"6\":\n        issuer = \"Discover\"\n    elif digit == \"3\":\n        issuer = \"American Express\"\n    else:\n        issuer = \"Invalid Card Number\"\n    return issuer\n    # the last line in the function should return the output",
      "execution_count": 6,
      "outputs": []
    },
    {
      "metadata": {},
      "cell_type": "markdown",
      "source": "### Step 3: Test\n\nYou wrote the function, but how do you know it works? The short answer is unless you test it you're guessing. \n\nTesting our function is as simple as calling the function with input values where WE KNOW WHAT TO EXPECT from the output. We then compare that to the ACTUAL value from the called function. If they are the same, then we know the function is working as expected!\n\nHere's some examples:\n\n```\nWHEN card='40123456789' We EXPECT CardIssuer(card) to return Visa\nWHEN card='50123456789' We EXPECT CardIssuer(card) to return MasterCard\nWHEN card='60123456789' We EXPECT CardIssuer(card) to return Discover\nWHEN card='30123456789' We EXPECT CardIssuer(card) to return American Express\nWHEN card='90123456789' We EXPECT CardIssuer(card) to return Invalid Card\n```\n\n### Now you Try it!\n\nWrite the tests based on the examples:"
    },
    {
      "metadata": {
        "trusted": true
      },
      "cell_type": "code",
      "source": "# Testing the CardIssuer() function\nprint(\"WHEN card='40123456789' We EXPECT CardIssuer(card) to return Visa ACTUAL\", CardIssuer(\"40123456789\"))\nprint(\"WHEN card='50123456789' We EXPECT CardIssuer(card) to return MasterCard ACTUAL\", CardIssuer(\"50123456789\"))\nprint(\"WHEN card='60123456789' We EXPECT CardIssuer(card) to return Discover ACTUAL\", CardIssuer(\"60123456789\"))\nprint(\"WHEN card='30123456789' We EXPECT CardIssuer(card) to return American Express\", CardIssuer(\"30123456789\"))\nprint(\"WHEN card='90123456789' We EXPECT CardIssuer(card) to return Invalid Card\", CardIssuer(\"90123456789\"))\n## TODO: You write the remaining 3 tests, you can copy the lines and edit the values accordingly\n\n",
      "execution_count": 2,
      "outputs": [
        {
          "output_type": "stream",
          "text": "WHEN card='40123456789' We EXPECT CardIssuer(card) to return Visa ACTUAL Visa\nWHEN card='50123456789' We EXPECT CardIssuer(card) to return MasterCard ACTUAL MasterCard\nWHEN card='60123456789' We EXPECT CardIssuer(card) to return Discover ACTUAL Discover\nWHEN card='30123456789' We EXPECT CardIssuer(card) to return American Express American Express\nWHEN card='90123456789' We EXPECT CardIssuer(card) to return Invalid Card Invalid Card Number\n",
          "name": "stdout"
        }
      ]
    },
    {
      "metadata": {},
      "cell_type": "markdown",
      "source": "### Step 4: Rewrite\n\nThe final step is to re-write the original program, but use the function instead. The algorithm becomes\n\n```\ninput credit card number into variable card\ncall the CardIssuer function with card as input, issuer as output\nprint issuer\n```\n\n### Now You Try It!\n"
    },
    {
      "metadata": {
        "trusted": true
      },
      "cell_type": "code",
      "source": "# TODO Re-write the program here, calling our function.\ncard = input(\"Enter your credit card number: \")\nCardIssuer(card)",
      "execution_count": 36,
      "outputs": [
        {
          "output_type": "stream",
          "name": "stdout",
          "text": "Enter your credit card number: 40\n"
        },
        {
          "output_type": "execute_result",
          "execution_count": 36,
          "data": {
            "text/plain": "'Visa'"
          },
          "metadata": {}
        }
      ]
    },
    {
      "metadata": {},
      "cell_type": "markdown",
      "source": "## Functions are abstractions. Abstractions are good.\n\n\nStep on the accellerator and the car goes. How does it work? Who cares, it's an abstraction! Functions are the same way. Don't believe me. Consider the Luhn Check Algorithm: https://en.wikipedia.org/wiki/Luhn_algorithm \n\nThis nifty little algorithm is used to verify that a sequence of digits is possibly a credit card number (as opposed to just a sequence of numbers). It uses a verfication approach called a **checksum** to as it uses a formula to figure out the validity. \n\nHere's the function which given a card will let you know if it passes the Luhn check:\n"
    },
    {
      "metadata": {
        "trusted": true
      },
      "cell_type": "code",
      "source": "# Todo: execute this code\n\ndef checkLuhn(card):\n    ''' This Luhn algorithm was adopted from the pseudocode here: https://en.wikipedia.org/wiki/Luhn_algorithm'''\n    total = 0\n    length = len(card)\n    parity = length % 2\n    for i in range(length):\n        digit = int(card[i])\n        if i%2 == parity:\n            digit = digit * 2\n            if digit > 9:\n                digit = digit -9\n        total = total + digit\n    return total % 10 == 0\n",
      "execution_count": 2,
      "outputs": []
    },
    {
      "metadata": {},
      "cell_type": "markdown",
      "source": "### Is that a credit card number or the ramblings of a madman?\n\nIn order to test the `checkLuhn()` function you need some credit card numbers. (Don't look at me... you ain't gettin' mine!!!!) Not to worry, the internet has you covered. The website: http://www.getcreditcardnumbers.com/ is not some mysterious site on the dark web. It's a site for generating \"test\" credit card numbers. You can't buy anything with these numbers, but they will pass the Luhn test.\n\nGrab a couple of numbers and test the Luhn function as we did with the `CardIssuer()` function. Write at least to tests like these ones:\n\n```\nWHEN card='5443713204330437' We EXPECT checkLuhn(card) to return True\nWHEN card='5111111111111111' We EXPECT checkLuhn(card) to return False \n```\n"
    },
    {
      "metadata": {
        "trusted": true
      },
      "cell_type": "code",
      "source": "#TODO Write your two tests here\ncard='5443713204330437'  \ncheckLuhn(card) \n",
      "execution_count": 3,
      "outputs": [
        {
          "output_type": "execute_result",
          "execution_count": 3,
          "data": {
            "text/plain": "True"
          },
          "metadata": {}
        }
      ]
    },
    {
      "metadata": {},
      "cell_type": "markdown",
      "source": "## Putting it all together\n\nFinally use our two functions to write the following program. It will ask for a series of credit card numbers, until you enter 'quit' for each number it will output whether it's invalid or if valid name the issuer.\n\n\nHere's the Algorithm:\n```\nloop\n    input a credit card number\n    if card = 'quit' stop loop\n    if card passes luhn check\n        get issuer\n        print issuer\n    else\n        print invalid card\n```\n\n### Now You Try It"
    },
    {
      "metadata": {
        "trusted": true
      },
      "cell_type": "code",
      "source": "## TODO Write code here\ndef checkLuhn(card):\n    ''' This Luhn algorithm was adopted from the pseudocode here: https://en.wikipedia.org/wiki/Luhn_algorithm'''\n    total = 0\n    length = len(card)\n    parity = length % 2\n    for i in range(length):\n        digit = int(card[i])\n        if i%2 == parity:\n            digit = digit * 2\n            if digit > 9:\n                digit = digit -9\n        total = total + digit\n    return total % 10 == 0\n\ndef CardIssuer(card):\n    \n    digit = card[0]\n    if digit == \"4\":\n        issuer = \"Visa\"\n    elif digit == \"5\":\n        issuer = \"MasterCard\"\n    elif digit == \"6\":\n        issuer = \"Discover\"\n    elif digit == \"3\":\n        issuer = \"American Express\"\n    else:\n        issuer = \"Invalid Card Number\"\n    return issuer\n\n\ncard = input(\"Enter your credit card number: \")\nwhile card != 'quit':\n\n    if checkLuhn(card) == True:\n        print(\"The Card issuer is \",CardIssuer(card))\n    else:\n        exit(0)\n            \n    card = input(\"Enter your credit card number: \")",
      "execution_count": 2,
      "outputs": [
        {
          "output_type": "stream",
          "name": "stdout",
          "text": "Enter your credit card number: 5443713204330437\nThe Card issuer is  MasterCard\nEnter your credit card number: quit\n"
        }
      ]
    },
    {
      "metadata": {
        "trusted": true
      },
      "cell_type": "code",
      "source": "",
      "execution_count": null,
      "outputs": []
    }
  ],
  "metadata": {
    "anaconda-cloud": {},
    "kernelspec": {
      "name": "python3",
      "display_name": "Python 3",
      "language": "python"
    },
    "language_info": {
      "mimetype": "text/x-python",
      "nbconvert_exporter": "python",
      "name": "python",
      "file_extension": ".py",
      "version": "3.5.4",
      "pygments_lexer": "ipython3",
      "codemirror_mode": {
        "version": 3,
        "name": "ipython"
      }
    }
  },
  "nbformat": 4,
  "nbformat_minor": 1
}