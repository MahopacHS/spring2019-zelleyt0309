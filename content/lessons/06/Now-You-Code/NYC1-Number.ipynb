{
  "cells": [
    {
      "metadata": {},
      "cell_type": "markdown",
      "source": "# Now You Code 1: Number\n\nIn this now you code we will learn to re-factor a program into a function. This is the most common way to write a function when you are a beginner. *Re-factoring* is the act of re-writing code without changing its functionality. We commonly do re-factoring to improve performance or readability of our code.\n\nThe way you do this is rather simple. First you write a program to solve the problem, then you re-write that program as a function and finally test the function to make sure it works as expected. \n\nThis helps train you to think abstractly about problems, but leverages what you understand currently about programming.\n\n## Introducing the Write - Refactor - Test - Rewrite approach\n\nThe best way to get good at writing functions, a skill you will need to master to become a respectable programmer, is to use the **Write - Refactor - Test - Rewrite** approach. Let's follow.\n\n### Step 1: we write the program \n\nWrite a program to take an input string and convert to a float. If the string cannot be converted to a float it returns the string \"NaN\" which means \"Not a Number\" We did this first part for you.\n\n#### Problem Analysis (This has been done for you)\n\nInputs: Any value\n\nOutputs: whether that value is a number\n\nAlgorithm:\n\n1. input a value\n2. try to convert the value to a number\n3. if you can convert it, print the number\n4. if you cannot print 'NaN' for Not a number."
    },
    {
      "metadata": {
        "trusted": true
      },
      "cell_type": "code",
      "source": "## STEP 2 : Write the program \nvalue = input(\"Enter a value, punk: \")\ntry:\n    value = float(value)\n    print(value)\nexcept:\n    print(\"NaN\")",
      "execution_count": 4,
      "outputs": [
        {
          "output_type": "stream",
          "name": "stdout",
          "text": "Enter a value, punk: punk\nNaN\n"
        }
      ]
    },
    {
      "metadata": {},
      "cell_type": "markdown",
      "source": "### Step 2: we refactor it into a function\n\nComplete the `ToNumber` function. It should be similar to the program above, but it should not have any `input()` or `print()` functions as those are reserved for the main program, instead the function should send variable arguments in as input, and return a value as output. In this case the function takes `text` as input and returns `number` as output\n"
    },
    {
      "metadata": {
        "trusted": true
      },
      "cell_type": "code",
      "source": "# Step 3: write the function\n## Function: ToNumber\n## Argument (input): text value\n## Returns (output): float of text value or \"NaN\"\n\ndef ToNumber(text):\n    # TODO Write code here\n    try:\n        text = float(text)\n    except:\n        text = \"NaN\"\n    return text",
      "execution_count": 32,
      "outputs": []
    },
    {
      "metadata": {},
      "cell_type": "markdown",
      "source": "### Step 3: we test our function\n\nWith the function complete, we need to test our function. The simplest way to do that is call the function with inputs we expect and verify the output. For example:\n\n```\nWHEN text='10.5' We EXPECT ToNumber(text) to return 10.5 ACTUAL: 10.5\nWHEN text='threeve' We EXPECT ToNumber(text) to return 'NaN' ACTUAL: NaN\n```\n\nWe can do this with simple `print()` statements, where we simply say what we are testing, then call the function with the value. \n\nHow many do we need? Enough to cover all the possibilities in output. We only need two tests here one for when the number can be converted and one for when the number cannot."
    },
    {
      "metadata": {
        "trusted": true
      },
      "cell_type": "code",
      "source": "print(\"WHEN text='10.5' We EXPECT ToNumber(text) to return 10.5 ACTUAL:\", ToNumber('10.5'))\nprint(\"WHEN text='threeve' We EXPECT ToNumber(text) to return 'NaN' ACTUAL:\", ToNumber('threeve'))",
      "execution_count": 19,
      "outputs": [
        {
          "output_type": "stream",
          "text": "WHEN text='10.5' We EXPECT ToNumber(text) to return 10.5 ACTUAL: 10.5\nWHEN text='threeve' We EXPECT ToNumber(text) to return 'NaN' ACTUAL: NaN\n",
          "name": "stdout"
        }
      ]
    },
    {
      "metadata": {},
      "cell_type": "markdown",
      "source": "### Step 4: rewrite the program to use the function\n\nFinally re-write the original program to use the new `ToNumber` function. The program now works the same as STEP1 but it now calls our function!"
    },
    {
      "metadata": {
        "trusted": true
      },
      "cell_type": "code",
      "source": "## Step 4: write the program from step 2 again, but this time use the function you defined two code cells up from here.\ntext = input(\"Enter a value, punk: \")\nToNumber(text)",
      "execution_count": 33,
      "outputs": [
        {
          "output_type": "stream",
          "name": "stdout",
          "text": "Enter a value, punk: punk\n"
        },
        {
          "output_type": "execute_result",
          "execution_count": 33,
          "data": {
            "text/plain": "'NaN'"
          },
          "metadata": {}
        }
      ]
    },
    {
      "metadata": {},
      "cell_type": "markdown",
      "source": "## Step 3: Questions\n\n1. Can you define a function with the same name more than once?\nyes as long as it is either of a different type or has different parameters or a different amount of parameters\n2. Can you call a function with the name name more than once?\nyes\n3. What is the input to the number function? What is the output?\ninput: text or number as a string\noutput: float value or NaN"
    },
    {
      "metadata": {},
      "cell_type": "markdown",
      "source": "## Reminder of Evaluation Criteria\n\n1. What the problem attempted (analysis, code, and answered questions) ?\n2. What the problem analysis thought out? (does the program match the plan?)\n3. Does the code execute without syntax error?\n4. Does the code solve the intended problem?\n5. Is the code well written? (easy to understand, modular, and self-documenting, handles errors)"
    },
    {
      "metadata": {
        "collapsed": true,
        "trusted": false
      },
      "cell_type": "code",
      "source": "",
      "execution_count": null,
      "outputs": []
    }
  ],
  "metadata": {
    "anaconda-cloud": {},
    "kernelspec": {
      "name": "python3",
      "display_name": "Python 3",
      "language": "python"
    },
    "language_info": {
      "mimetype": "text/x-python",
      "nbconvert_exporter": "python",
      "name": "python",
      "file_extension": ".py",
      "version": "3.5.4",
      "pygments_lexer": "ipython3",
      "codemirror_mode": {
        "version": 3,
        "name": "ipython"
      }
    }
  },
  "nbformat": 4,
  "nbformat_minor": 1
}