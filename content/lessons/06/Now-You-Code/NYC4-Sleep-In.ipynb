{
  "cells": [
    {
      "metadata": {},
      "cell_type": "markdown",
      "source": "# Now You Code 4: Should I Sleep In?\n\nAlways. :-) \n\nActually we'd like to write a program which will suggest whether or not we can sleep in. Our criteria will be as follows.\n\n- Is it the weekend? Then sleep in.\n- Is it a holiday? Then sleep in.\n- Otherwise you need to get up!\n\nLet's write a program to input the day of the week and ask whether or not its a holiday, then make the appropriate decision as to whether or not we should sleep in.\n\nWe will use the **Write - Refactor - Test - Rewrite** approach to complete the final solution which will refactor the day of the week logic into a function."
    },
    {
      "metadata": {},
      "cell_type": "markdown",
      "source": "## Step 1: Write\n\nHere's the algorithm of this program. Write the solution in Python.\n\n```\n    input day of the week\n    input is it a holiday\n    if day of the week is a weekend\n        print go back to bed its the weekend\n    else\n        if its a holiday\n            print go back to bed. its a holiday\n        else\n            print you need to get up\n```\n\nExample Run 1:\n\n```\nWhat day of the week is it? Monday\nIs it a holiday? No\nYou need to get up!\n```\n\nExample Run 2:\n\n```\nWhat day of the week is it? Saturday\nIs it a holiday? No\nGo back to bed! It's the weekend.\n```\n\nExample Run 3:\n\n```\nWhat day of the week is it? Monday\nIs it a holiday? Yes\nGo back to bed! It's a Holiday.\n```\n"
    },
    {
      "metadata": {
        "trusted": true
      },
      "cell_type": "code",
      "source": "## TODO: Write the solution here\nday = input(\"What day is it? 'weekday, weekend': \")\nholiday_value = input(\"Is it a holiday? 'yes or no': \")\nif day == 'weekday' and holiday_value == 'yes':\n    print(\"Go back to bed it's a holiday!\")\nelif day == \"weekday\" and holiday_value == 'no':\n    print(\"You need to get up!\")\nelif day == 'weekend' and holiday_value == 'no':\n    print(\"Go back to bed it's the weekend!\")\nelif day == 'weekend' and holiday_value == 'yes':\n    print(\"Whoa it's the weekend and a holiday, why did you wake up so early? You're a fool GO BACK TO SLEEP\")",
      "execution_count": 3,
      "outputs": [
        {
          "output_type": "stream",
          "name": "stdout",
          "text": "What day is it? 'weekday, weekend': weekend\nIs it a holiday? 'yes or no': yes\nWhoa it's the weekend and a holiday, why did you wake up so early? You're a fool GO BACK TO SLEEP\n"
        }
      ]
    },
    {
      "metadata": {},
      "cell_type": "markdown",
      "source": "## Step 2: Refactor\n\nNext we need to refactor the part of this program which checks to see if the day of the week is a weekend. The function:\n\n- `IsWeekend()` has one input a `day_of_week` and returns `True` when it's a `Saturday` or `Sunday`, `False` for all other days.\n"
    },
    {
      "metadata": {
        "trusted": true
      },
      "cell_type": "code",
      "source": "## Step 2: Refactor into function IsWeekend(day_of_week)\ndef IsWeekend(day_of_week):\n    if day_of_week == 'Saturday':\n        day = True\n    elif day_of_week == 'Sunday':\n        day = True\n    else:\n        day = False\n    return day\n",
      "execution_count": 12,
      "outputs": []
    },
    {
      "metadata": {},
      "cell_type": "markdown",
      "source": "## Step 3: Test \n\nTime to test. Write 7 tests, once for each day of the week.\n```\nWHEN day_of_week='Monday' We EXPECT IsWeekend(day_of_week) to return False\nWHEN day_of_week='Tuesday' We EXPECT IsWeekend(day_of_week) to return False\nWHEN day_of_week='Wednesday' We EXPECT IsWeekend(day_of_week) to return False\nWHEN day_of_week='Thursday' We EXPECT IsWeekend(day_of_week) to return False\nWHEN day_of_week='Friday' We EXPECT IsWeekend(day_of_week) to return False\nWHEN day_of_week='Saturday' We EXPECT IsWeekend(day_of_week) to return True\nWHEN day_of_week='Sunday' We EXPECT IsWeekend(day_of_week) to return True\n```\n"
    },
    {
      "metadata": {
        "trusted": true
      },
      "cell_type": "code",
      "source": "# Step 3: Write tests. Similar to how we did it in the lab.\nday_of_week = \"Sunday\"\nIsWeekend(day_of_week)\n#day_of_week = \"Monday\"\nIsWeekend(day_of_week)",
      "execution_count": 16,
      "outputs": [
        {
          "output_type": "execute_result",
          "execution_count": 16,
          "data": {
            "text/plain": "True"
          },
          "metadata": {}
        }
      ]
    },
    {
      "metadata": {},
      "cell_type": "markdown",
      "source": "## Step 4: rewrite the program to use the function\n\nFinally re-write the original program, but call the function you made in step 2: \n"
    },
    {
      "metadata": {
        "trusted": true
      },
      "cell_type": "code",
      "source": "## Step 4: Write program here from the algorithm above\nday_of_week = input(\"What day is it? \")\nIsWeekend(day_of_week)\nholiday_value = input(\"Is it a holiday? 'yes or no': \")\nif IsWeekend(day_of_week) == True:\n    if holiday_value == 'yes':\n        print(\"Whoa it's the weekend and a holiday, why did you wake up so early? You're a fool GO BACK TO SLEEP!\")\n    if holiday_value == 'no':\n        print(\"Go back to bed it's the weekend!\")\nelif IsWeekend(day_of_week) == False:\n    if holiday_value == 'yes':\n        print(\"Go back to bed it's a holiday!\")    \n    if holiday_value == 'no':\n        print(\"You need to get up!\")",
      "execution_count": 18,
      "outputs": [
        {
          "output_type": "stream",
          "name": "stdout",
          "text": "What day is it? Sunday\nIs it a holiday? 'yes or no': no\nGo back to bed it's the weekend!\n"
        }
      ]
    },
    {
      "metadata": {},
      "cell_type": "markdown",
      "source": "## Step 6: Questions\n\n1. Provide 3 advantages for programming a user function in your code like `CircleArea`  or `CircleCircumfrence`\nit allows you to not have to type the same thing multiple times\nit saves memory\nit makes the code look less confusing\n2. Why did we need to write 7 tests?\nbecause there are 4 correct outcomes and you have to test for a number, a float, and a character\n3. Which code is easier to understand? Step 1 or step 4? Why? or Why not?\nthey're pretty much the same, but I guess step 1 because you don't know what the function does\n4. What happens when you input `'sat'` for `'Saturday'` Does it work? How can the program be improved? Does improving it affect the readability of step 4? (HINT: Abstractions!!!)\nit doesn't work, but you could change the function to accept abbreviations, which would make it a better code"
    },
    {
      "metadata": {},
      "cell_type": "markdown",
      "source": "## Reminder of Evaluation Criteria\n\n1. What the problem attempted (analysis, code, and answered questions) ?\n2. What the problem analysis thought out? (does the program match the plan?)\n3. Does the code execute without syntax error?\n4. Does the code solve the intended problem?\n5. Is the code well written? (easy to understand, modular, and self-documenting, handles errors)\n"
    },
    {
      "metadata": {
        "collapsed": true,
        "trusted": false
      },
      "cell_type": "code",
      "source": "",
      "execution_count": null,
      "outputs": []
    }
  ],
  "metadata": {
    "anaconda-cloud": {},
    "kernelspec": {
      "name": "python3",
      "display_name": "Python 3",
      "language": "python"
    },
    "language_info": {
      "mimetype": "text/x-python",
      "nbconvert_exporter": "python",
      "name": "python",
      "pygments_lexer": "ipython3",
      "version": "3.5.4",
      "file_extension": ".py",
      "codemirror_mode": {
        "version": 3,
        "name": "ipython"
      }
    }
  },
  "nbformat": 4,
  "nbformat_minor": 1
}