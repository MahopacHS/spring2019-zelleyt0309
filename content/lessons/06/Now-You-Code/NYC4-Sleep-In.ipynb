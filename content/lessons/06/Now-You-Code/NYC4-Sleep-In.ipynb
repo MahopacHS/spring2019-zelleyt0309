{
  "cells": [
    {
      "metadata": {},
      "cell_type": "markdown",
      "source": "# Now You Code 4: Should I Sleep In?\n\nAlways. :-) \n\nActually we'd like to write a program which will suggest whether or not we can sleep in. Our criteria will be as follows.\n\n- Is it the weekend? Then sleep in.\n- Is it a holiday? Then sleep in.\n- Otherwise you need to get up!\n\nLet's write a program to input the day of the week and ask whether or not its a holiday, then make the appropriate decision as to whether or not we should sleep in.\n\nWe will use the **Write - Refactor - Test - Rewrite** approach to complete the final solution which will refactor the day of the week logic into a function."
    },
    {
      "metadata": {},
      "cell_type": "markdown",
      "source": "## Step 1: Write\n\nHere's the algorithm of this program. Write the solution in Python.\n\n```\n    input day of the week\n    input is it a holiday\n    if day of the week is a weekend\n        print go back to bed its the weekend\n    else\n        if its a holiday\n            print go back to bed. its a holiday\n        else\n            print you need to get up\n```\n\nExample Run 1:\n\n```\nWhat day of the week is it? Monday\nIs it a holiday? No\nYou need to get up!\n```\n\nExample Run 2:\n\n```\nWhat day of the week is it? Saturday\nIs it a holiday? No\nGo back to bed! It's the weekend.\n```\n\nExample Run 3:\n\n```\nWhat day of the week is it? Monday\nIs it a holiday? Yes\nGo back to bed! It's a Holiday.\n```\n"
    },
    {
      "metadata": {
        "trusted": false
      },
      "cell_type": "code",
      "source": "## TODO: Write the solution here\n\n",
      "execution_count": 6,
      "outputs": [
        {
          "name": "stdout",
          "output_type": "stream",
          "text": "Enter Radius: 1\nA circle with radius 1.000000 has area 3.141593 and circumfrence 6.283185\n"
        }
      ]
    },
    {
      "metadata": {},
      "cell_type": "markdown",
      "source": "## Step 2: Refactor\n\nNext we need to refactor the part of this program which checks to see if the day of the week is a weekend. The function:\n\n- `IsWeekend()` has one input a `day_of_week` and returns `True` when it's a `Saturday` or `Sunday`, `False` for all other days.\n"
    },
    {
      "metadata": {
        "trusted": false
      },
      "cell_type": "code",
      "source": "## Step 2: Refactor into function IsWeekend(day_of_week)\n\n",
      "execution_count": 7,
      "outputs": []
    },
    {
      "metadata": {},
      "cell_type": "markdown",
      "source": "## Step 3: Test \n\nTime to test. Write 7 tests, once for each day of the week.\n```\nWHEN day_of_week='Monday' We EXPECT IsWeekend(day_of_week) to return False\nWHEN day_of_week='Tuesday' We EXPECT IsWeekend(day_of_week) to return False\nWHEN day_of_week='Wednesday' We EXPECT IsWeekend(day_of_week) to return False\nWHEN day_of_week='Thursday' We EXPECT IsWeekend(day_of_week) to return False\nWHEN day_of_week='Friday' We EXPECT IsWeekend(day_of_week) to return False\nWHEN day_of_week='Saturday' We EXPECT IsWeekend(day_of_week) to return True\nWHEN day_of_week='Sunday' We EXPECT IsWeekend(day_of_week) to return True\n```\n"
    },
    {
      "metadata": {
        "trusted": false
      },
      "cell_type": "code",
      "source": "# Step 3: Write tests. Similar to how we did it in the lab.\n",
      "execution_count": 2,
      "outputs": []
    },
    {
      "metadata": {},
      "cell_type": "markdown",
      "source": "## Step 4: rewrite the program to use the function\n\nFinally re-write the original program, but call the function you made in step 2: \n"
    },
    {
      "metadata": {
        "trusted": false
      },
      "cell_type": "code",
      "source": "## Step 4: Write program here from the algorithm above\n",
      "execution_count": 1,
      "outputs": []
    },
    {
      "metadata": {},
      "cell_type": "markdown",
      "source": "## Step 6: Questions\n\n1. Provide 3 advantages for programming a user function in your code like `CircleArea`  or `CircleCircumfrence`\n2. Why did we need to write 7 tests?\n3. Which code is easier to understand? Step 1 or step 4? Why? or Why not?\n4. What happens when you input `'sat'` for `'Saturday'` Does it work? How can the program be improved? Does improving it affect the readability of step 4? (HINT: Abstractions!!!)\n"
    },
    {
      "metadata": {},
      "cell_type": "markdown",
      "source": "## Reminder of Evaluation Criteria\n\n1. What the problem attempted (analysis, code, and answered questions) ?\n2. What the problem analysis thought out? (does the program match the plan?)\n3. Does the code execute without syntax error?\n4. Does the code solve the intended problem?\n5. Is the code well written? (easy to understand, modular, and self-documenting, handles errors)\n"
    },
    {
      "metadata": {
        "collapsed": true,
        "trusted": false
      },
      "cell_type": "code",
      "source": "",
      "execution_count": null,
      "outputs": []
    }
  ],
  "metadata": {
    "anaconda-cloud": {},
    "kernelspec": {
      "name": "python3",
      "display_name": "Python 3",
      "language": "python"
    },
    "language_info": {
      "mimetype": "text/x-python",
      "nbconvert_exporter": "python",
      "name": "python",
      "file_extension": ".py",
      "version": "3.5.4",
      "pygments_lexer": "ipython3",
      "codemirror_mode": {
        "version": 3,
        "name": "ipython"
      }
    }
  },
  "nbformat": 4,
  "nbformat_minor": 1
}